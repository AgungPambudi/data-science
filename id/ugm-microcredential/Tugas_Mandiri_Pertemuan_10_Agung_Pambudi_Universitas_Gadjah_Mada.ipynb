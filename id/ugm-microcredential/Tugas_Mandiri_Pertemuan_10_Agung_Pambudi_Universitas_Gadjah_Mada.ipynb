{
  "nbformat": 4,
  "nbformat_minor": 0,
  "metadata": {
    "kernelspec": {
      "display_name": "Python 3",
      "language": "python",
      "name": "python3"
    },
    "language_info": {
      "codemirror_mode": {
        "name": "ipython",
        "version": 3
      },
      "file_extension": ".py",
      "mimetype": "text/x-python",
      "name": "python",
      "nbconvert_exporter": "python",
      "pygments_lexer": "ipython3",
      "version": "3.8.8"
    },
    "papermill": {
      "duration": 11.694103,
      "end_time": "2020-12-18T08:30:35.163795",
      "environment_variables": {},
      "exception": null,
      "input_path": "__notebook__.ipynb",
      "output_path": "__notebook__.ipynb",
      "parameters": {},
      "start_time": "2020-12-18T08:30:23.469692",
      "version": "2.1.0"
    },
    "colab": {
      "provenance": [],
      "collapsed_sections": [
        "CoyaWJp34iNr",
        "jxdMjJz74iPy",
        "9r-prjjK4iQW"
      ],
      "include_colab_link": true
    }
  },
  "cells": [
    {
      "cell_type": "markdown",
      "metadata": {
        "id": "view-in-github",
        "colab_type": "text"
      },
      "source": [
        "<a href=\"https://colab.research.google.com/github/AgungPambudi/data-science/blob/main/Tugas_Mandiri_Pertemuan_10_Agung_Pambudi_Universitas_Gadjah_Mada.ipynb\" target=\"_parent\"><img src=\"https://colab.research.google.com/assets/colab-badge.svg\" alt=\"Open In Colab\"/></a>"
      ]
    },
    {
      "cell_type": "markdown",
      "metadata": {
        "id": "baYwWyYC4iMg"
      },
      "source": [
        "# Hands-On\n",
        "---\n",
        "\n",
        "Hands-On ini digunakan pada kegiatan Microcredential Associate Data Scientist 2021"
      ]
    },
    {
      "cell_type": "markdown",
      "metadata": {
        "id": "kQzovMk54iMn"
      },
      "source": [
        "# Tugas Mandiri Pertemuan 10\n",
        "---\n",
        "Pertemuan 10 (sepuluh) pada Microcredential Associate Data Scientist 2021 menyampaikan materi mengenai Membangun Model (Dasar Regresi dan Regresi Linier). silakan Anda kerjakan Latihan 1 s/d 20. Output yang anda lihat merupakan panduan yang dapat Anda ikuti dalam penulisan code :)"
      ]
    },
    {
      "cell_type": "markdown",
      "metadata": {
        "id": "3kMKplan4iMr"
      },
      "source": [
        "# Latihan (1)\n",
        "\n",
        "### Melakukan import library yang dibutuhkan"
      ]
    },
    {
      "cell_type": "code",
      "metadata": {
        "id": "krcNBbEs4iMy"
      },
      "source": [
        "# import library pandas\n",
        "import pandas as pd \n",
        "\n",
        "# Import library numpy\n",
        "import numpy as np\n",
        "\n",
        "# Import library matplotlib dan seaborn untuk visualisasi\n",
        "import matplotlib.pyplot as plt\n",
        "import seaborn as sns\n",
        "\n",
        "# Import Module LinearRegression digunakan untuk memanggil algoritma Linear Regression.\n",
        "from sklearn.linear_model import LinearRegression\n",
        "\n",
        "# import Module train_test_split digunakan untuk membagi data kita menjadi training dan testing set.\n",
        "from sklearn.model_selection import train_test_split\n",
        "\n",
        "# import modul mean_absolute_error dari library sklearn\n",
        "from sklearn.metrics import mean_absolute_error\n",
        "\n",
        "#import math agar program dapat menggunakan semua fungsi yang ada pada modul math.(ex:sqrt)\n",
        "import math\n",
        "\n",
        "# me-non aktifkan peringatan pada python\n",
        "import warnings \n",
        "warnings.filterwarnings('ignore')"
      ],
      "execution_count": null,
      "outputs": []
    },
    {
      "cell_type": "markdown",
      "metadata": {
        "id": "L-Yeehjs4iM8"
      },
      "source": [
        "### Load Dataset"
      ]
    },
    {
      "cell_type": "code",
      "metadata": {
        "colab": {
          "base_uri": "https://localhost:8080/"
        },
        "id": "JrfEyE0B6CQ4",
        "outputId": "f38f4b0d-f81f-49a3-a5c3-4b45771e6066"
      },
      "source": [
        "from google.colab import drive\n",
        "drive.mount('/content/drive')"
      ],
      "execution_count": null,
      "outputs": [
        {
          "output_type": "stream",
          "name": "stdout",
          "text": [
            "Mounted at /content/drive\n"
          ]
        }
      ]
    },
    {
      "cell_type": "code",
      "metadata": {
        "_cell_guid": "79c7e3d0-c299-4dcb-8224-4455121ee9b0",
        "_uuid": "d629ff2d2480ee46fbb7e2d37f6b5fab8052498a",
        "execution": {
          "iopub.execute_input": "2020-12-18T08:30:29.732715Z",
          "iopub.status.busy": "2020-12-18T08:30:29.731914Z",
          "iopub.status.idle": "2020-12-18T08:30:29.751271Z",
          "shell.execute_reply": "2020-12-18T08:30:29.750721Z"
        },
        "papermill": {
          "duration": 0.046297,
          "end_time": "2020-12-18T08:30:29.751394",
          "exception": false,
          "start_time": "2020-12-18T08:30:29.705097",
          "status": "completed"
        },
        "tags": [],
        "id": "PdDQnKRE4iNA",
        "colab": {
          "base_uri": "https://localhost:8080/",
          "height": 452
        },
        "outputId": "1d9576e5-2600-4516-d3c3-f223df8f02fc"
      },
      "source": [
        "#Panggil file (load file bernama CarPrice_Assignment.csv) dan simpan dalam dataframe Lalu tampilkan 10 baris awal dataset dengan function head()\n",
        "data = \"/content/drive/MyDrive/Agung Pambudi - Associate Data Scientist/CarPrice_Assignment.csv\"\n",
        "dataset = pd.read_csv(data)\n",
        "dataset.head(10)"
      ],
      "execution_count": null,
      "outputs": [
        {
          "output_type": "execute_result",
          "data": {
            "text/html": [
              "<div>\n",
              "<style scoped>\n",
              "    .dataframe tbody tr th:only-of-type {\n",
              "        vertical-align: middle;\n",
              "    }\n",
              "\n",
              "    .dataframe tbody tr th {\n",
              "        vertical-align: top;\n",
              "    }\n",
              "\n",
              "    .dataframe thead th {\n",
              "        text-align: right;\n",
              "    }\n",
              "</style>\n",
              "<table border=\"1\" class=\"dataframe\">\n",
              "  <thead>\n",
              "    <tr style=\"text-align: right;\">\n",
              "      <th></th>\n",
              "      <th>car_ID</th>\n",
              "      <th>symboling</th>\n",
              "      <th>CarName</th>\n",
              "      <th>fueltype</th>\n",
              "      <th>aspiration</th>\n",
              "      <th>doornumber</th>\n",
              "      <th>carbody</th>\n",
              "      <th>drivewheel</th>\n",
              "      <th>enginelocation</th>\n",
              "      <th>wheelbase</th>\n",
              "      <th>carlength</th>\n",
              "      <th>carwidth</th>\n",
              "      <th>carheight</th>\n",
              "      <th>curbweight</th>\n",
              "      <th>enginetype</th>\n",
              "      <th>cylindernumber</th>\n",
              "      <th>enginesize</th>\n",
              "      <th>fuelsystem</th>\n",
              "      <th>boreratio</th>\n",
              "      <th>stroke</th>\n",
              "      <th>compressionratio</th>\n",
              "      <th>horsepower</th>\n",
              "      <th>peakrpm</th>\n",
              "      <th>citympg</th>\n",
              "      <th>highwaympg</th>\n",
              "      <th>price</th>\n",
              "    </tr>\n",
              "  </thead>\n",
              "  <tbody>\n",
              "    <tr>\n",
              "      <th>0</th>\n",
              "      <td>1</td>\n",
              "      <td>3</td>\n",
              "      <td>alfa-romero giulia</td>\n",
              "      <td>gas</td>\n",
              "      <td>std</td>\n",
              "      <td>two</td>\n",
              "      <td>convertible</td>\n",
              "      <td>rwd</td>\n",
              "      <td>front</td>\n",
              "      <td>88.6</td>\n",
              "      <td>168.8</td>\n",
              "      <td>64.1</td>\n",
              "      <td>48.8</td>\n",
              "      <td>2548</td>\n",
              "      <td>dohc</td>\n",
              "      <td>four</td>\n",
              "      <td>130</td>\n",
              "      <td>mpfi</td>\n",
              "      <td>3.47</td>\n",
              "      <td>2.68</td>\n",
              "      <td>9.0</td>\n",
              "      <td>111</td>\n",
              "      <td>5000</td>\n",
              "      <td>21</td>\n",
              "      <td>27</td>\n",
              "      <td>13495.000</td>\n",
              "    </tr>\n",
              "    <tr>\n",
              "      <th>1</th>\n",
              "      <td>2</td>\n",
              "      <td>3</td>\n",
              "      <td>alfa-romero stelvio</td>\n",
              "      <td>gas</td>\n",
              "      <td>std</td>\n",
              "      <td>two</td>\n",
              "      <td>convertible</td>\n",
              "      <td>rwd</td>\n",
              "      <td>front</td>\n",
              "      <td>88.6</td>\n",
              "      <td>168.8</td>\n",
              "      <td>64.1</td>\n",
              "      <td>48.8</td>\n",
              "      <td>2548</td>\n",
              "      <td>dohc</td>\n",
              "      <td>four</td>\n",
              "      <td>130</td>\n",
              "      <td>mpfi</td>\n",
              "      <td>3.47</td>\n",
              "      <td>2.68</td>\n",
              "      <td>9.0</td>\n",
              "      <td>111</td>\n",
              "      <td>5000</td>\n",
              "      <td>21</td>\n",
              "      <td>27</td>\n",
              "      <td>16500.000</td>\n",
              "    </tr>\n",
              "    <tr>\n",
              "      <th>2</th>\n",
              "      <td>3</td>\n",
              "      <td>1</td>\n",
              "      <td>alfa-romero Quadrifoglio</td>\n",
              "      <td>gas</td>\n",
              "      <td>std</td>\n",
              "      <td>two</td>\n",
              "      <td>hatchback</td>\n",
              "      <td>rwd</td>\n",
              "      <td>front</td>\n",
              "      <td>94.5</td>\n",
              "      <td>171.2</td>\n",
              "      <td>65.5</td>\n",
              "      <td>52.4</td>\n",
              "      <td>2823</td>\n",
              "      <td>ohcv</td>\n",
              "      <td>six</td>\n",
              "      <td>152</td>\n",
              "      <td>mpfi</td>\n",
              "      <td>2.68</td>\n",
              "      <td>3.47</td>\n",
              "      <td>9.0</td>\n",
              "      <td>154</td>\n",
              "      <td>5000</td>\n",
              "      <td>19</td>\n",
              "      <td>26</td>\n",
              "      <td>16500.000</td>\n",
              "    </tr>\n",
              "    <tr>\n",
              "      <th>3</th>\n",
              "      <td>4</td>\n",
              "      <td>2</td>\n",
              "      <td>audi 100 ls</td>\n",
              "      <td>gas</td>\n",
              "      <td>std</td>\n",
              "      <td>four</td>\n",
              "      <td>sedan</td>\n",
              "      <td>fwd</td>\n",
              "      <td>front</td>\n",
              "      <td>99.8</td>\n",
              "      <td>176.6</td>\n",
              "      <td>66.2</td>\n",
              "      <td>54.3</td>\n",
              "      <td>2337</td>\n",
              "      <td>ohc</td>\n",
              "      <td>four</td>\n",
              "      <td>109</td>\n",
              "      <td>mpfi</td>\n",
              "      <td>3.19</td>\n",
              "      <td>3.40</td>\n",
              "      <td>10.0</td>\n",
              "      <td>102</td>\n",
              "      <td>5500</td>\n",
              "      <td>24</td>\n",
              "      <td>30</td>\n",
              "      <td>13950.000</td>\n",
              "    </tr>\n",
              "    <tr>\n",
              "      <th>4</th>\n",
              "      <td>5</td>\n",
              "      <td>2</td>\n",
              "      <td>audi 100ls</td>\n",
              "      <td>gas</td>\n",
              "      <td>std</td>\n",
              "      <td>four</td>\n",
              "      <td>sedan</td>\n",
              "      <td>4wd</td>\n",
              "      <td>front</td>\n",
              "      <td>99.4</td>\n",
              "      <td>176.6</td>\n",
              "      <td>66.4</td>\n",
              "      <td>54.3</td>\n",
              "      <td>2824</td>\n",
              "      <td>ohc</td>\n",
              "      <td>five</td>\n",
              "      <td>136</td>\n",
              "      <td>mpfi</td>\n",
              "      <td>3.19</td>\n",
              "      <td>3.40</td>\n",
              "      <td>8.0</td>\n",
              "      <td>115</td>\n",
              "      <td>5500</td>\n",
              "      <td>18</td>\n",
              "      <td>22</td>\n",
              "      <td>17450.000</td>\n",
              "    </tr>\n",
              "    <tr>\n",
              "      <th>5</th>\n",
              "      <td>6</td>\n",
              "      <td>2</td>\n",
              "      <td>audi fox</td>\n",
              "      <td>gas</td>\n",
              "      <td>std</td>\n",
              "      <td>two</td>\n",
              "      <td>sedan</td>\n",
              "      <td>fwd</td>\n",
              "      <td>front</td>\n",
              "      <td>99.8</td>\n",
              "      <td>177.3</td>\n",
              "      <td>66.3</td>\n",
              "      <td>53.1</td>\n",
              "      <td>2507</td>\n",
              "      <td>ohc</td>\n",
              "      <td>five</td>\n",
              "      <td>136</td>\n",
              "      <td>mpfi</td>\n",
              "      <td>3.19</td>\n",
              "      <td>3.40</td>\n",
              "      <td>8.5</td>\n",
              "      <td>110</td>\n",
              "      <td>5500</td>\n",
              "      <td>19</td>\n",
              "      <td>25</td>\n",
              "      <td>15250.000</td>\n",
              "    </tr>\n",
              "    <tr>\n",
              "      <th>6</th>\n",
              "      <td>7</td>\n",
              "      <td>1</td>\n",
              "      <td>audi 100ls</td>\n",
              "      <td>gas</td>\n",
              "      <td>std</td>\n",
              "      <td>four</td>\n",
              "      <td>sedan</td>\n",
              "      <td>fwd</td>\n",
              "      <td>front</td>\n",
              "      <td>105.8</td>\n",
              "      <td>192.7</td>\n",
              "      <td>71.4</td>\n",
              "      <td>55.7</td>\n",
              "      <td>2844</td>\n",
              "      <td>ohc</td>\n",
              "      <td>five</td>\n",
              "      <td>136</td>\n",
              "      <td>mpfi</td>\n",
              "      <td>3.19</td>\n",
              "      <td>3.40</td>\n",
              "      <td>8.5</td>\n",
              "      <td>110</td>\n",
              "      <td>5500</td>\n",
              "      <td>19</td>\n",
              "      <td>25</td>\n",
              "      <td>17710.000</td>\n",
              "    </tr>\n",
              "    <tr>\n",
              "      <th>7</th>\n",
              "      <td>8</td>\n",
              "      <td>1</td>\n",
              "      <td>audi 5000</td>\n",
              "      <td>gas</td>\n",
              "      <td>std</td>\n",
              "      <td>four</td>\n",
              "      <td>wagon</td>\n",
              "      <td>fwd</td>\n",
              "      <td>front</td>\n",
              "      <td>105.8</td>\n",
              "      <td>192.7</td>\n",
              "      <td>71.4</td>\n",
              "      <td>55.7</td>\n",
              "      <td>2954</td>\n",
              "      <td>ohc</td>\n",
              "      <td>five</td>\n",
              "      <td>136</td>\n",
              "      <td>mpfi</td>\n",
              "      <td>3.19</td>\n",
              "      <td>3.40</td>\n",
              "      <td>8.5</td>\n",
              "      <td>110</td>\n",
              "      <td>5500</td>\n",
              "      <td>19</td>\n",
              "      <td>25</td>\n",
              "      <td>18920.000</td>\n",
              "    </tr>\n",
              "    <tr>\n",
              "      <th>8</th>\n",
              "      <td>9</td>\n",
              "      <td>1</td>\n",
              "      <td>audi 4000</td>\n",
              "      <td>gas</td>\n",
              "      <td>turbo</td>\n",
              "      <td>four</td>\n",
              "      <td>sedan</td>\n",
              "      <td>fwd</td>\n",
              "      <td>front</td>\n",
              "      <td>105.8</td>\n",
              "      <td>192.7</td>\n",
              "      <td>71.4</td>\n",
              "      <td>55.9</td>\n",
              "      <td>3086</td>\n",
              "      <td>ohc</td>\n",
              "      <td>five</td>\n",
              "      <td>131</td>\n",
              "      <td>mpfi</td>\n",
              "      <td>3.13</td>\n",
              "      <td>3.40</td>\n",
              "      <td>8.3</td>\n",
              "      <td>140</td>\n",
              "      <td>5500</td>\n",
              "      <td>17</td>\n",
              "      <td>20</td>\n",
              "      <td>23875.000</td>\n",
              "    </tr>\n",
              "    <tr>\n",
              "      <th>9</th>\n",
              "      <td>10</td>\n",
              "      <td>0</td>\n",
              "      <td>audi 5000s (diesel)</td>\n",
              "      <td>gas</td>\n",
              "      <td>turbo</td>\n",
              "      <td>two</td>\n",
              "      <td>hatchback</td>\n",
              "      <td>4wd</td>\n",
              "      <td>front</td>\n",
              "      <td>99.5</td>\n",
              "      <td>178.2</td>\n",
              "      <td>67.9</td>\n",
              "      <td>52.0</td>\n",
              "      <td>3053</td>\n",
              "      <td>ohc</td>\n",
              "      <td>five</td>\n",
              "      <td>131</td>\n",
              "      <td>mpfi</td>\n",
              "      <td>3.13</td>\n",
              "      <td>3.40</td>\n",
              "      <td>7.0</td>\n",
              "      <td>160</td>\n",
              "      <td>5500</td>\n",
              "      <td>16</td>\n",
              "      <td>22</td>\n",
              "      <td>17859.167</td>\n",
              "    </tr>\n",
              "  </tbody>\n",
              "</table>\n",
              "</div>"
            ],
            "text/plain": [
              "   car_ID  symboling                   CarName  ... citympg highwaympg      price\n",
              "0       1          3        alfa-romero giulia  ...      21         27  13495.000\n",
              "1       2          3       alfa-romero stelvio  ...      21         27  16500.000\n",
              "2       3          1  alfa-romero Quadrifoglio  ...      19         26  16500.000\n",
              "3       4          2               audi 100 ls  ...      24         30  13950.000\n",
              "4       5          2                audi 100ls  ...      18         22  17450.000\n",
              "5       6          2                  audi fox  ...      19         25  15250.000\n",
              "6       7          1                audi 100ls  ...      19         25  17710.000\n",
              "7       8          1                 audi 5000  ...      19         25  18920.000\n",
              "8       9          1                 audi 4000  ...      17         20  23875.000\n",
              "9      10          0       audi 5000s (diesel)  ...      16         22  17859.167\n",
              "\n",
              "[10 rows x 26 columns]"
            ]
          },
          "metadata": {},
          "execution_count": 3
        }
      ]
    },
    {
      "cell_type": "markdown",
      "metadata": {
        "id": "ir2PcsM04iNR"
      },
      "source": [
        "# Latihan (2)\n",
        "\n",
        "### Review Dataset"
      ]
    },
    {
      "cell_type": "code",
      "metadata": {
        "execution": {
          "iopub.execute_input": "2020-12-18T08:30:29.929169Z",
          "iopub.status.busy": "2020-12-18T08:30:29.928516Z",
          "iopub.status.idle": "2020-12-18T08:30:29.932971Z",
          "shell.execute_reply": "2020-12-18T08:30:29.932414Z"
        },
        "papermill": {
          "duration": 0.031025,
          "end_time": "2020-12-18T08:30:29.933112",
          "exception": false,
          "start_time": "2020-12-18T08:30:29.902087",
          "status": "completed"
        },
        "tags": [],
        "id": "9Zhz_A1V4iNV",
        "colab": {
          "base_uri": "https://localhost:8080/"
        },
        "outputId": "b7771707-65d1-427b-8ad6-5b4ec7af12c4"
      },
      "source": [
        "# melihat jumlah baris dan jumlah kolom (bentuk data) pada data df dengan fungsi .shape \n",
        "dataset.shape"
      ],
      "execution_count": null,
      "outputs": [
        {
          "output_type": "execute_result",
          "data": {
            "text/plain": [
              "(205, 26)"
            ]
          },
          "metadata": {},
          "execution_count": 4
        }
      ]
    },
    {
      "cell_type": "markdown",
      "metadata": {
        "papermill": {
          "duration": 0.022228,
          "end_time": "2020-12-18T08:30:29.977924",
          "exception": false,
          "start_time": "2020-12-18T08:30:29.955696",
          "status": "completed"
        },
        "tags": [],
        "id": "pckkybEK4iNa"
      },
      "source": [
        "Data kita mempunyai 26 kolom dengan 205 baris."
      ]
    },
    {
      "cell_type": "code",
      "metadata": {
        "execution": {
          "iopub.execute_input": "2020-12-18T08:30:30.026595Z",
          "iopub.status.busy": "2020-12-18T08:30:30.025892Z",
          "iopub.status.idle": "2020-12-18T08:30:30.042195Z",
          "shell.execute_reply": "2020-12-18T08:30:30.041730Z"
        },
        "papermill": {
          "duration": 0.041497,
          "end_time": "2020-12-18T08:30:30.042309",
          "exception": false,
          "start_time": "2020-12-18T08:30:30.000812",
          "status": "completed"
        },
        "tags": [],
        "id": "AMMphj_F4iNd",
        "colab": {
          "base_uri": "https://localhost:8080/"
        },
        "outputId": "6037e67d-685f-482e-9ffa-c39406713347"
      },
      "source": [
        "# Melihat Informasi lebih detail mengenai struktur DataFrame dapat dilihat menggunakan fungsi info()\n",
        "dataset.info()"
      ],
      "execution_count": null,
      "outputs": [
        {
          "output_type": "stream",
          "name": "stdout",
          "text": [
            "<class 'pandas.core.frame.DataFrame'>\n",
            "RangeIndex: 205 entries, 0 to 204\n",
            "Data columns (total 26 columns):\n",
            " #   Column            Non-Null Count  Dtype  \n",
            "---  ------            --------------  -----  \n",
            " 0   car_ID            205 non-null    int64  \n",
            " 1   symboling         205 non-null    int64  \n",
            " 2   CarName           205 non-null    object \n",
            " 3   fueltype          205 non-null    object \n",
            " 4   aspiration        205 non-null    object \n",
            " 5   doornumber        205 non-null    object \n",
            " 6   carbody           205 non-null    object \n",
            " 7   drivewheel        205 non-null    object \n",
            " 8   enginelocation    205 non-null    object \n",
            " 9   wheelbase         205 non-null    float64\n",
            " 10  carlength         205 non-null    float64\n",
            " 11  carwidth          205 non-null    float64\n",
            " 12  carheight         205 non-null    float64\n",
            " 13  curbweight        205 non-null    int64  \n",
            " 14  enginetype        205 non-null    object \n",
            " 15  cylindernumber    205 non-null    object \n",
            " 16  enginesize        205 non-null    int64  \n",
            " 17  fuelsystem        205 non-null    object \n",
            " 18  boreratio         205 non-null    float64\n",
            " 19  stroke            205 non-null    float64\n",
            " 20  compressionratio  205 non-null    float64\n",
            " 21  horsepower        205 non-null    int64  \n",
            " 22  peakrpm           205 non-null    int64  \n",
            " 23  citympg           205 non-null    int64  \n",
            " 24  highwaympg        205 non-null    int64  \n",
            " 25  price             205 non-null    float64\n",
            "dtypes: float64(8), int64(8), object(10)\n",
            "memory usage: 41.8+ KB\n"
          ]
        }
      ]
    },
    {
      "cell_type": "code",
      "metadata": {
        "execution": {
          "iopub.execute_input": "2020-12-18T08:30:30.099863Z",
          "iopub.status.busy": "2020-12-18T08:30:30.098819Z",
          "iopub.status.idle": "2020-12-18T08:30:30.145707Z",
          "shell.execute_reply": "2020-12-18T08:30:30.146146Z"
        },
        "papermill": {
          "duration": 0.08099,
          "end_time": "2020-12-18T08:30:30.146287",
          "exception": false,
          "start_time": "2020-12-18T08:30:30.065297",
          "status": "completed"
        },
        "tags": [],
        "id": "72XuRQRX4iNh",
        "colab": {
          "base_uri": "https://localhost:8080/",
          "height": 320
        },
        "outputId": "d96037bc-8bd3-43f0-993c-02b79cb8fdd5"
      },
      "source": [
        "# melihat statistik data untuk data numeric seperti count, mean, standard deviation, maximum, mininum, dan quartile.\n",
        "dataset.describe()"
      ],
      "execution_count": null,
      "outputs": [
        {
          "output_type": "execute_result",
          "data": {
            "text/html": [
              "<div>\n",
              "<style scoped>\n",
              "    .dataframe tbody tr th:only-of-type {\n",
              "        vertical-align: middle;\n",
              "    }\n",
              "\n",
              "    .dataframe tbody tr th {\n",
              "        vertical-align: top;\n",
              "    }\n",
              "\n",
              "    .dataframe thead th {\n",
              "        text-align: right;\n",
              "    }\n",
              "</style>\n",
              "<table border=\"1\" class=\"dataframe\">\n",
              "  <thead>\n",
              "    <tr style=\"text-align: right;\">\n",
              "      <th></th>\n",
              "      <th>car_ID</th>\n",
              "      <th>symboling</th>\n",
              "      <th>wheelbase</th>\n",
              "      <th>carlength</th>\n",
              "      <th>carwidth</th>\n",
              "      <th>carheight</th>\n",
              "      <th>curbweight</th>\n",
              "      <th>enginesize</th>\n",
              "      <th>boreratio</th>\n",
              "      <th>stroke</th>\n",
              "      <th>compressionratio</th>\n",
              "      <th>horsepower</th>\n",
              "      <th>peakrpm</th>\n",
              "      <th>citympg</th>\n",
              "      <th>highwaympg</th>\n",
              "      <th>price</th>\n",
              "    </tr>\n",
              "  </thead>\n",
              "  <tbody>\n",
              "    <tr>\n",
              "      <th>count</th>\n",
              "      <td>205.000000</td>\n",
              "      <td>205.000000</td>\n",
              "      <td>205.000000</td>\n",
              "      <td>205.000000</td>\n",
              "      <td>205.000000</td>\n",
              "      <td>205.000000</td>\n",
              "      <td>205.000000</td>\n",
              "      <td>205.000000</td>\n",
              "      <td>205.000000</td>\n",
              "      <td>205.000000</td>\n",
              "      <td>205.000000</td>\n",
              "      <td>205.000000</td>\n",
              "      <td>205.000000</td>\n",
              "      <td>205.000000</td>\n",
              "      <td>205.000000</td>\n",
              "      <td>205.000000</td>\n",
              "    </tr>\n",
              "    <tr>\n",
              "      <th>mean</th>\n",
              "      <td>103.000000</td>\n",
              "      <td>0.834146</td>\n",
              "      <td>98.756585</td>\n",
              "      <td>174.049268</td>\n",
              "      <td>65.907805</td>\n",
              "      <td>53.724878</td>\n",
              "      <td>2555.565854</td>\n",
              "      <td>126.907317</td>\n",
              "      <td>3.329756</td>\n",
              "      <td>3.255415</td>\n",
              "      <td>10.142537</td>\n",
              "      <td>104.117073</td>\n",
              "      <td>5125.121951</td>\n",
              "      <td>25.219512</td>\n",
              "      <td>30.751220</td>\n",
              "      <td>13276.710571</td>\n",
              "    </tr>\n",
              "    <tr>\n",
              "      <th>std</th>\n",
              "      <td>59.322565</td>\n",
              "      <td>1.245307</td>\n",
              "      <td>6.021776</td>\n",
              "      <td>12.337289</td>\n",
              "      <td>2.145204</td>\n",
              "      <td>2.443522</td>\n",
              "      <td>520.680204</td>\n",
              "      <td>41.642693</td>\n",
              "      <td>0.270844</td>\n",
              "      <td>0.313597</td>\n",
              "      <td>3.972040</td>\n",
              "      <td>39.544167</td>\n",
              "      <td>476.985643</td>\n",
              "      <td>6.542142</td>\n",
              "      <td>6.886443</td>\n",
              "      <td>7988.852332</td>\n",
              "    </tr>\n",
              "    <tr>\n",
              "      <th>min</th>\n",
              "      <td>1.000000</td>\n",
              "      <td>-2.000000</td>\n",
              "      <td>86.600000</td>\n",
              "      <td>141.100000</td>\n",
              "      <td>60.300000</td>\n",
              "      <td>47.800000</td>\n",
              "      <td>1488.000000</td>\n",
              "      <td>61.000000</td>\n",
              "      <td>2.540000</td>\n",
              "      <td>2.070000</td>\n",
              "      <td>7.000000</td>\n",
              "      <td>48.000000</td>\n",
              "      <td>4150.000000</td>\n",
              "      <td>13.000000</td>\n",
              "      <td>16.000000</td>\n",
              "      <td>5118.000000</td>\n",
              "    </tr>\n",
              "    <tr>\n",
              "      <th>25%</th>\n",
              "      <td>52.000000</td>\n",
              "      <td>0.000000</td>\n",
              "      <td>94.500000</td>\n",
              "      <td>166.300000</td>\n",
              "      <td>64.100000</td>\n",
              "      <td>52.000000</td>\n",
              "      <td>2145.000000</td>\n",
              "      <td>97.000000</td>\n",
              "      <td>3.150000</td>\n",
              "      <td>3.110000</td>\n",
              "      <td>8.600000</td>\n",
              "      <td>70.000000</td>\n",
              "      <td>4800.000000</td>\n",
              "      <td>19.000000</td>\n",
              "      <td>25.000000</td>\n",
              "      <td>7788.000000</td>\n",
              "    </tr>\n",
              "    <tr>\n",
              "      <th>50%</th>\n",
              "      <td>103.000000</td>\n",
              "      <td>1.000000</td>\n",
              "      <td>97.000000</td>\n",
              "      <td>173.200000</td>\n",
              "      <td>65.500000</td>\n",
              "      <td>54.100000</td>\n",
              "      <td>2414.000000</td>\n",
              "      <td>120.000000</td>\n",
              "      <td>3.310000</td>\n",
              "      <td>3.290000</td>\n",
              "      <td>9.000000</td>\n",
              "      <td>95.000000</td>\n",
              "      <td>5200.000000</td>\n",
              "      <td>24.000000</td>\n",
              "      <td>30.000000</td>\n",
              "      <td>10295.000000</td>\n",
              "    </tr>\n",
              "    <tr>\n",
              "      <th>75%</th>\n",
              "      <td>154.000000</td>\n",
              "      <td>2.000000</td>\n",
              "      <td>102.400000</td>\n",
              "      <td>183.100000</td>\n",
              "      <td>66.900000</td>\n",
              "      <td>55.500000</td>\n",
              "      <td>2935.000000</td>\n",
              "      <td>141.000000</td>\n",
              "      <td>3.580000</td>\n",
              "      <td>3.410000</td>\n",
              "      <td>9.400000</td>\n",
              "      <td>116.000000</td>\n",
              "      <td>5500.000000</td>\n",
              "      <td>30.000000</td>\n",
              "      <td>34.000000</td>\n",
              "      <td>16503.000000</td>\n",
              "    </tr>\n",
              "    <tr>\n",
              "      <th>max</th>\n",
              "      <td>205.000000</td>\n",
              "      <td>3.000000</td>\n",
              "      <td>120.900000</td>\n",
              "      <td>208.100000</td>\n",
              "      <td>72.300000</td>\n",
              "      <td>59.800000</td>\n",
              "      <td>4066.000000</td>\n",
              "      <td>326.000000</td>\n",
              "      <td>3.940000</td>\n",
              "      <td>4.170000</td>\n",
              "      <td>23.000000</td>\n",
              "      <td>288.000000</td>\n",
              "      <td>6600.000000</td>\n",
              "      <td>49.000000</td>\n",
              "      <td>54.000000</td>\n",
              "      <td>45400.000000</td>\n",
              "    </tr>\n",
              "  </tbody>\n",
              "</table>\n",
              "</div>"
            ],
            "text/plain": [
              "           car_ID   symboling   wheelbase  ...     citympg  highwaympg         price\n",
              "count  205.000000  205.000000  205.000000  ...  205.000000  205.000000    205.000000\n",
              "mean   103.000000    0.834146   98.756585  ...   25.219512   30.751220  13276.710571\n",
              "std     59.322565    1.245307    6.021776  ...    6.542142    6.886443   7988.852332\n",
              "min      1.000000   -2.000000   86.600000  ...   13.000000   16.000000   5118.000000\n",
              "25%     52.000000    0.000000   94.500000  ...   19.000000   25.000000   7788.000000\n",
              "50%    103.000000    1.000000   97.000000  ...   24.000000   30.000000  10295.000000\n",
              "75%    154.000000    2.000000  102.400000  ...   30.000000   34.000000  16503.000000\n",
              "max    205.000000    3.000000  120.900000  ...   49.000000   54.000000  45400.000000\n",
              "\n",
              "[8 rows x 16 columns]"
            ]
          },
          "metadata": {},
          "execution_count": 6
        }
      ]
    },
    {
      "cell_type": "code",
      "metadata": {
        "execution": {
          "iopub.execute_input": "2020-12-18T08:30:30.201389Z",
          "iopub.status.busy": "2020-12-18T08:30:30.200478Z",
          "iopub.status.idle": "2020-12-18T08:30:30.204137Z",
          "shell.execute_reply": "2020-12-18T08:30:30.204579Z"
        },
        "papermill": {
          "duration": 0.034571,
          "end_time": "2020-12-18T08:30:30.204711",
          "exception": false,
          "start_time": "2020-12-18T08:30:30.170140",
          "status": "completed"
        },
        "tags": [],
        "id": "Pu6oLBAB4iNk",
        "colab": {
          "base_uri": "https://localhost:8080/"
        },
        "outputId": "14a7f8d6-59f9-412d-cd2b-de03414210ce"
      },
      "source": [
        "# cek nilai yang hilang / missing values di dalam data\n",
        "dataset.isnull().sum()"
      ],
      "execution_count": null,
      "outputs": [
        {
          "output_type": "execute_result",
          "data": {
            "text/plain": [
              "car_ID              0\n",
              "symboling           0\n",
              "CarName             0\n",
              "fueltype            0\n",
              "aspiration          0\n",
              "doornumber          0\n",
              "carbody             0\n",
              "drivewheel          0\n",
              "enginelocation      0\n",
              "wheelbase           0\n",
              "carlength           0\n",
              "carwidth            0\n",
              "carheight           0\n",
              "curbweight          0\n",
              "enginetype          0\n",
              "cylindernumber      0\n",
              "enginesize          0\n",
              "fuelsystem          0\n",
              "boreratio           0\n",
              "stroke              0\n",
              "compressionratio    0\n",
              "horsepower          0\n",
              "peakrpm             0\n",
              "citympg             0\n",
              "highwaympg          0\n",
              "price               0\n",
              "dtype: int64"
            ]
          },
          "metadata": {},
          "execution_count": 7
        }
      ]
    },
    {
      "cell_type": "markdown",
      "metadata": {
        "papermill": {
          "duration": 0.023557,
          "end_time": "2020-12-18T08:30:30.252343",
          "exception": false,
          "start_time": "2020-12-18T08:30:30.228786",
          "status": "completed"
        },
        "tags": [],
        "id": "WAYAzzI64iNn"
      },
      "source": [
        "Ternyata data kita tidak ada missing values."
      ]
    },
    {
      "cell_type": "markdown",
      "metadata": {
        "papermill": {
          "duration": 0.023488,
          "end_time": "2020-12-18T08:30:30.299775",
          "exception": false,
          "start_time": "2020-12-18T08:30:30.276287",
          "status": "completed"
        },
        "tags": [],
        "id": "Vvg5iQ8L4iNp"
      },
      "source": [
        "Simple linear regression atau regresi linear sederhana merupakan jenis regresi yang paling sederhana karena hanya melibatkan satu variabel bebas atau variabel independen X."
      ]
    },
    {
      "cell_type": "markdown",
      "metadata": {
        "papermill": {
          "duration": 0.023488,
          "end_time": "2020-12-18T08:30:30.346976",
          "exception": false,
          "start_time": "2020-12-18T08:30:30.323488",
          "status": "completed"
        },
        "tags": [],
        "id": "CoyaWJp34iNr"
      },
      "source": [
        "# Visualisasi data untuk pemilihan fitur / variabel independen X\n",
        "---\n",
        "1. Variabel y atau variabel dependent adalah 'price'\n",
        "2. Lakukan Visualisasi dalam penerapannya agar dapat terlihat jelas / mempermudah dalam membaca data tsb\n",
        "3. Untuk dapat menentukan variabel X yaitu dapat melihat korelasi antar variabel dengan variabel y / kolom 'price'"
      ]
    },
    {
      "cell_type": "markdown",
      "metadata": {
        "id": "_5XfOHyT4iNu"
      },
      "source": [
        "# Latihan (3)\n",
        "\n",
        "### untuk dapat menentukan lebih detail / akurat dalam pemilihan fitur dapat dilihat dari hubungan korelasi nya dengan function corr() "
      ]
    },
    {
      "cell_type": "code",
      "metadata": {
        "execution": {
          "iopub.execute_input": "2020-12-18T08:30:32.334141Z",
          "iopub.status.busy": "2020-12-18T08:30:32.333494Z",
          "iopub.status.idle": "2020-12-18T08:30:32.360593Z",
          "shell.execute_reply": "2020-12-18T08:30:32.360094Z"
        },
        "papermill": {
          "duration": 0.060766,
          "end_time": "2020-12-18T08:30:32.360702",
          "exception": false,
          "start_time": "2020-12-18T08:30:32.299936",
          "status": "completed"
        },
        "tags": [],
        "id": "1Qxoy5HJ4iNw",
        "colab": {
          "base_uri": "https://localhost:8080/",
          "height": 571
        },
        "outputId": "156a5869-26f9-4ce9-ed9e-8fdbe45e8f54"
      },
      "source": [
        "dataset.corr()"
      ],
      "execution_count": null,
      "outputs": [
        {
          "output_type": "execute_result",
          "data": {
            "text/html": [
              "<div>\n",
              "<style scoped>\n",
              "    .dataframe tbody tr th:only-of-type {\n",
              "        vertical-align: middle;\n",
              "    }\n",
              "\n",
              "    .dataframe tbody tr th {\n",
              "        vertical-align: top;\n",
              "    }\n",
              "\n",
              "    .dataframe thead th {\n",
              "        text-align: right;\n",
              "    }\n",
              "</style>\n",
              "<table border=\"1\" class=\"dataframe\">\n",
              "  <thead>\n",
              "    <tr style=\"text-align: right;\">\n",
              "      <th></th>\n",
              "      <th>car_ID</th>\n",
              "      <th>symboling</th>\n",
              "      <th>wheelbase</th>\n",
              "      <th>carlength</th>\n",
              "      <th>carwidth</th>\n",
              "      <th>carheight</th>\n",
              "      <th>curbweight</th>\n",
              "      <th>enginesize</th>\n",
              "      <th>boreratio</th>\n",
              "      <th>stroke</th>\n",
              "      <th>compressionratio</th>\n",
              "      <th>horsepower</th>\n",
              "      <th>peakrpm</th>\n",
              "      <th>citympg</th>\n",
              "      <th>highwaympg</th>\n",
              "      <th>price</th>\n",
              "    </tr>\n",
              "  </thead>\n",
              "  <tbody>\n",
              "    <tr>\n",
              "      <th>car_ID</th>\n",
              "      <td>1.000000</td>\n",
              "      <td>-0.151621</td>\n",
              "      <td>0.129729</td>\n",
              "      <td>0.170636</td>\n",
              "      <td>0.052387</td>\n",
              "      <td>0.255960</td>\n",
              "      <td>0.071962</td>\n",
              "      <td>-0.033930</td>\n",
              "      <td>0.260064</td>\n",
              "      <td>-0.160824</td>\n",
              "      <td>0.150276</td>\n",
              "      <td>-0.015006</td>\n",
              "      <td>-0.203789</td>\n",
              "      <td>0.015940</td>\n",
              "      <td>0.011255</td>\n",
              "      <td>-0.109093</td>\n",
              "    </tr>\n",
              "    <tr>\n",
              "      <th>symboling</th>\n",
              "      <td>-0.151621</td>\n",
              "      <td>1.000000</td>\n",
              "      <td>-0.531954</td>\n",
              "      <td>-0.357612</td>\n",
              "      <td>-0.232919</td>\n",
              "      <td>-0.541038</td>\n",
              "      <td>-0.227691</td>\n",
              "      <td>-0.105790</td>\n",
              "      <td>-0.130051</td>\n",
              "      <td>-0.008735</td>\n",
              "      <td>-0.178515</td>\n",
              "      <td>0.070873</td>\n",
              "      <td>0.273606</td>\n",
              "      <td>-0.035823</td>\n",
              "      <td>0.034606</td>\n",
              "      <td>-0.079978</td>\n",
              "    </tr>\n",
              "    <tr>\n",
              "      <th>wheelbase</th>\n",
              "      <td>0.129729</td>\n",
              "      <td>-0.531954</td>\n",
              "      <td>1.000000</td>\n",
              "      <td>0.874587</td>\n",
              "      <td>0.795144</td>\n",
              "      <td>0.589435</td>\n",
              "      <td>0.776386</td>\n",
              "      <td>0.569329</td>\n",
              "      <td>0.488750</td>\n",
              "      <td>0.160959</td>\n",
              "      <td>0.249786</td>\n",
              "      <td>0.353294</td>\n",
              "      <td>-0.360469</td>\n",
              "      <td>-0.470414</td>\n",
              "      <td>-0.544082</td>\n",
              "      <td>0.577816</td>\n",
              "    </tr>\n",
              "    <tr>\n",
              "      <th>carlength</th>\n",
              "      <td>0.170636</td>\n",
              "      <td>-0.357612</td>\n",
              "      <td>0.874587</td>\n",
              "      <td>1.000000</td>\n",
              "      <td>0.841118</td>\n",
              "      <td>0.491029</td>\n",
              "      <td>0.877728</td>\n",
              "      <td>0.683360</td>\n",
              "      <td>0.606454</td>\n",
              "      <td>0.129533</td>\n",
              "      <td>0.158414</td>\n",
              "      <td>0.552623</td>\n",
              "      <td>-0.287242</td>\n",
              "      <td>-0.670909</td>\n",
              "      <td>-0.704662</td>\n",
              "      <td>0.682920</td>\n",
              "    </tr>\n",
              "    <tr>\n",
              "      <th>carwidth</th>\n",
              "      <td>0.052387</td>\n",
              "      <td>-0.232919</td>\n",
              "      <td>0.795144</td>\n",
              "      <td>0.841118</td>\n",
              "      <td>1.000000</td>\n",
              "      <td>0.279210</td>\n",
              "      <td>0.867032</td>\n",
              "      <td>0.735433</td>\n",
              "      <td>0.559150</td>\n",
              "      <td>0.182942</td>\n",
              "      <td>0.181129</td>\n",
              "      <td>0.640732</td>\n",
              "      <td>-0.220012</td>\n",
              "      <td>-0.642704</td>\n",
              "      <td>-0.677218</td>\n",
              "      <td>0.759325</td>\n",
              "    </tr>\n",
              "    <tr>\n",
              "      <th>carheight</th>\n",
              "      <td>0.255960</td>\n",
              "      <td>-0.541038</td>\n",
              "      <td>0.589435</td>\n",
              "      <td>0.491029</td>\n",
              "      <td>0.279210</td>\n",
              "      <td>1.000000</td>\n",
              "      <td>0.295572</td>\n",
              "      <td>0.067149</td>\n",
              "      <td>0.171071</td>\n",
              "      <td>-0.055307</td>\n",
              "      <td>0.261214</td>\n",
              "      <td>-0.108802</td>\n",
              "      <td>-0.320411</td>\n",
              "      <td>-0.048640</td>\n",
              "      <td>-0.107358</td>\n",
              "      <td>0.119336</td>\n",
              "    </tr>\n",
              "    <tr>\n",
              "      <th>curbweight</th>\n",
              "      <td>0.071962</td>\n",
              "      <td>-0.227691</td>\n",
              "      <td>0.776386</td>\n",
              "      <td>0.877728</td>\n",
              "      <td>0.867032</td>\n",
              "      <td>0.295572</td>\n",
              "      <td>1.000000</td>\n",
              "      <td>0.850594</td>\n",
              "      <td>0.648480</td>\n",
              "      <td>0.168790</td>\n",
              "      <td>0.151362</td>\n",
              "      <td>0.750739</td>\n",
              "      <td>-0.266243</td>\n",
              "      <td>-0.757414</td>\n",
              "      <td>-0.797465</td>\n",
              "      <td>0.835305</td>\n",
              "    </tr>\n",
              "    <tr>\n",
              "      <th>enginesize</th>\n",
              "      <td>-0.033930</td>\n",
              "      <td>-0.105790</td>\n",
              "      <td>0.569329</td>\n",
              "      <td>0.683360</td>\n",
              "      <td>0.735433</td>\n",
              "      <td>0.067149</td>\n",
              "      <td>0.850594</td>\n",
              "      <td>1.000000</td>\n",
              "      <td>0.583774</td>\n",
              "      <td>0.203129</td>\n",
              "      <td>0.028971</td>\n",
              "      <td>0.809769</td>\n",
              "      <td>-0.244660</td>\n",
              "      <td>-0.653658</td>\n",
              "      <td>-0.677470</td>\n",
              "      <td>0.874145</td>\n",
              "    </tr>\n",
              "    <tr>\n",
              "      <th>boreratio</th>\n",
              "      <td>0.260064</td>\n",
              "      <td>-0.130051</td>\n",
              "      <td>0.488750</td>\n",
              "      <td>0.606454</td>\n",
              "      <td>0.559150</td>\n",
              "      <td>0.171071</td>\n",
              "      <td>0.648480</td>\n",
              "      <td>0.583774</td>\n",
              "      <td>1.000000</td>\n",
              "      <td>-0.055909</td>\n",
              "      <td>0.005197</td>\n",
              "      <td>0.573677</td>\n",
              "      <td>-0.254976</td>\n",
              "      <td>-0.584532</td>\n",
              "      <td>-0.587012</td>\n",
              "      <td>0.553173</td>\n",
              "    </tr>\n",
              "    <tr>\n",
              "      <th>stroke</th>\n",
              "      <td>-0.160824</td>\n",
              "      <td>-0.008735</td>\n",
              "      <td>0.160959</td>\n",
              "      <td>0.129533</td>\n",
              "      <td>0.182942</td>\n",
              "      <td>-0.055307</td>\n",
              "      <td>0.168790</td>\n",
              "      <td>0.203129</td>\n",
              "      <td>-0.055909</td>\n",
              "      <td>1.000000</td>\n",
              "      <td>0.186110</td>\n",
              "      <td>0.080940</td>\n",
              "      <td>-0.067964</td>\n",
              "      <td>-0.042145</td>\n",
              "      <td>-0.043931</td>\n",
              "      <td>0.079443</td>\n",
              "    </tr>\n",
              "    <tr>\n",
              "      <th>compressionratio</th>\n",
              "      <td>0.150276</td>\n",
              "      <td>-0.178515</td>\n",
              "      <td>0.249786</td>\n",
              "      <td>0.158414</td>\n",
              "      <td>0.181129</td>\n",
              "      <td>0.261214</td>\n",
              "      <td>0.151362</td>\n",
              "      <td>0.028971</td>\n",
              "      <td>0.005197</td>\n",
              "      <td>0.186110</td>\n",
              "      <td>1.000000</td>\n",
              "      <td>-0.204326</td>\n",
              "      <td>-0.435741</td>\n",
              "      <td>0.324701</td>\n",
              "      <td>0.265201</td>\n",
              "      <td>0.067984</td>\n",
              "    </tr>\n",
              "    <tr>\n",
              "      <th>horsepower</th>\n",
              "      <td>-0.015006</td>\n",
              "      <td>0.070873</td>\n",
              "      <td>0.353294</td>\n",
              "      <td>0.552623</td>\n",
              "      <td>0.640732</td>\n",
              "      <td>-0.108802</td>\n",
              "      <td>0.750739</td>\n",
              "      <td>0.809769</td>\n",
              "      <td>0.573677</td>\n",
              "      <td>0.080940</td>\n",
              "      <td>-0.204326</td>\n",
              "      <td>1.000000</td>\n",
              "      <td>0.131073</td>\n",
              "      <td>-0.801456</td>\n",
              "      <td>-0.770544</td>\n",
              "      <td>0.808139</td>\n",
              "    </tr>\n",
              "    <tr>\n",
              "      <th>peakrpm</th>\n",
              "      <td>-0.203789</td>\n",
              "      <td>0.273606</td>\n",
              "      <td>-0.360469</td>\n",
              "      <td>-0.287242</td>\n",
              "      <td>-0.220012</td>\n",
              "      <td>-0.320411</td>\n",
              "      <td>-0.266243</td>\n",
              "      <td>-0.244660</td>\n",
              "      <td>-0.254976</td>\n",
              "      <td>-0.067964</td>\n",
              "      <td>-0.435741</td>\n",
              "      <td>0.131073</td>\n",
              "      <td>1.000000</td>\n",
              "      <td>-0.113544</td>\n",
              "      <td>-0.054275</td>\n",
              "      <td>-0.085267</td>\n",
              "    </tr>\n",
              "    <tr>\n",
              "      <th>citympg</th>\n",
              "      <td>0.015940</td>\n",
              "      <td>-0.035823</td>\n",
              "      <td>-0.470414</td>\n",
              "      <td>-0.670909</td>\n",
              "      <td>-0.642704</td>\n",
              "      <td>-0.048640</td>\n",
              "      <td>-0.757414</td>\n",
              "      <td>-0.653658</td>\n",
              "      <td>-0.584532</td>\n",
              "      <td>-0.042145</td>\n",
              "      <td>0.324701</td>\n",
              "      <td>-0.801456</td>\n",
              "      <td>-0.113544</td>\n",
              "      <td>1.000000</td>\n",
              "      <td>0.971337</td>\n",
              "      <td>-0.685751</td>\n",
              "    </tr>\n",
              "    <tr>\n",
              "      <th>highwaympg</th>\n",
              "      <td>0.011255</td>\n",
              "      <td>0.034606</td>\n",
              "      <td>-0.544082</td>\n",
              "      <td>-0.704662</td>\n",
              "      <td>-0.677218</td>\n",
              "      <td>-0.107358</td>\n",
              "      <td>-0.797465</td>\n",
              "      <td>-0.677470</td>\n",
              "      <td>-0.587012</td>\n",
              "      <td>-0.043931</td>\n",
              "      <td>0.265201</td>\n",
              "      <td>-0.770544</td>\n",
              "      <td>-0.054275</td>\n",
              "      <td>0.971337</td>\n",
              "      <td>1.000000</td>\n",
              "      <td>-0.697599</td>\n",
              "    </tr>\n",
              "    <tr>\n",
              "      <th>price</th>\n",
              "      <td>-0.109093</td>\n",
              "      <td>-0.079978</td>\n",
              "      <td>0.577816</td>\n",
              "      <td>0.682920</td>\n",
              "      <td>0.759325</td>\n",
              "      <td>0.119336</td>\n",
              "      <td>0.835305</td>\n",
              "      <td>0.874145</td>\n",
              "      <td>0.553173</td>\n",
              "      <td>0.079443</td>\n",
              "      <td>0.067984</td>\n",
              "      <td>0.808139</td>\n",
              "      <td>-0.085267</td>\n",
              "      <td>-0.685751</td>\n",
              "      <td>-0.697599</td>\n",
              "      <td>1.000000</td>\n",
              "    </tr>\n",
              "  </tbody>\n",
              "</table>\n",
              "</div>"
            ],
            "text/plain": [
              "                    car_ID  symboling  ...  highwaympg     price\n",
              "car_ID            1.000000  -0.151621  ...    0.011255 -0.109093\n",
              "symboling        -0.151621   1.000000  ...    0.034606 -0.079978\n",
              "wheelbase         0.129729  -0.531954  ...   -0.544082  0.577816\n",
              "carlength         0.170636  -0.357612  ...   -0.704662  0.682920\n",
              "carwidth          0.052387  -0.232919  ...   -0.677218  0.759325\n",
              "carheight         0.255960  -0.541038  ...   -0.107358  0.119336\n",
              "curbweight        0.071962  -0.227691  ...   -0.797465  0.835305\n",
              "enginesize       -0.033930  -0.105790  ...   -0.677470  0.874145\n",
              "boreratio         0.260064  -0.130051  ...   -0.587012  0.553173\n",
              "stroke           -0.160824  -0.008735  ...   -0.043931  0.079443\n",
              "compressionratio  0.150276  -0.178515  ...    0.265201  0.067984\n",
              "horsepower       -0.015006   0.070873  ...   -0.770544  0.808139\n",
              "peakrpm          -0.203789   0.273606  ...   -0.054275 -0.085267\n",
              "citympg           0.015940  -0.035823  ...    0.971337 -0.685751\n",
              "highwaympg        0.011255   0.034606  ...    1.000000 -0.697599\n",
              "price            -0.109093  -0.079978  ...   -0.697599  1.000000\n",
              "\n",
              "[16 rows x 16 columns]"
            ]
          },
          "metadata": {},
          "execution_count": 8
        }
      ]
    },
    {
      "cell_type": "markdown",
      "metadata": {
        "id": "SgYFjur84iNz"
      },
      "source": [
        "tampaknya enginesize, boreratio, horsepower, wheelbase memiliki korelasi yang signifikan dengan harga/price."
      ]
    },
    {
      "cell_type": "markdown",
      "metadata": {
        "id": "9Jpmg-lT4iN1"
      },
      "source": [
        "# Latihan (4)\n",
        "\n",
        "### Buat Visualisasi scater plot dari kolom:\n",
        "\n",
        "'enginesize', 'boreratio', 'stroke','compressionratio', 'horsepower', 'peakrpm', 'wheelbase', 'citympg', 'highwaympg'"
      ]
    },
    {
      "cell_type": "code",
      "metadata": {
        "execution": {
          "iopub.execute_input": "2020-12-18T08:30:30.401375Z",
          "iopub.status.busy": "2020-12-18T08:30:30.400555Z",
          "iopub.status.idle": "2020-12-18T08:30:31.916967Z",
          "shell.execute_reply": "2020-12-18T08:30:31.915983Z"
        },
        "papermill": {
          "duration": 1.546256,
          "end_time": "2020-12-18T08:30:31.917116",
          "exception": false,
          "start_time": "2020-12-18T08:30:30.370860",
          "status": "completed"
        },
        "tags": [],
        "id": "K2GQWaQd4iN3",
        "colab": {
          "base_uri": "https://localhost:8080/",
          "height": 875
        },
        "outputId": "bd9af1ba-5bb8-42f5-e4f8-fd5bf4699575"
      },
      "source": [
        "def pp(x,y,z):\n",
        "    sns.pairplot(dataset, x_vars=[x,y,z], y_vars='price',size=4, aspect=1, kind='scatter')\n",
        "    plt.show()\n",
        "\n",
        "pp('enginesize', 'boreratio', 'stroke')\n",
        "pp('compressionratio', 'horsepower', 'peakrpm')\n",
        "pp('wheelbase', 'citympg', 'highwaympg')"
      ],
      "execution_count": null,
      "outputs": [
        {
          "output_type": "display_data",
          "data": {
            "image/png": "[encoded data removed]",
            "text/plain": [
              "<Figure size 864x288 with 3 Axes>"
            ]
          },
          "metadata": {
            "needs_background": "light"
          }
        },
        {
          "output_type": "display_data",
          "data": {
            "image/png": "[encoded data removed]",
            "text/plain": [
              "<Figure size 864x288 with 3 Axes>"
            ]
          },
          "metadata": {
            "needs_background": "light"
          }
        },
        {
          "output_type": "display_data",
          "data": {
            "image/png": "[encoded data removed]",
            "text/plain": [
              "<Figure size 864x288 with 3 Axes>"
            ]
          },
          "metadata": {
            "needs_background": "light"
          }
        }
      ]
    },
    {
      "cell_type": "markdown",
      "metadata": {
        "id": "46GZsvZM4iN6"
      },
      "source": [
        "# Latihan (5)\n",
        "\n",
        "### Buat Visualisasi Heatmap dari kolom:\n",
        "\n",
        "'enginesize', 'boreratio', 'stroke','compressionratio', 'horsepower', 'peakrpm', 'wheelbase', 'citympg', 'highwaympg'"
      ]
    },
    {
      "cell_type": "code",
      "metadata": {
        "id": "PzAOvdR-4iN8",
        "colab": {
          "base_uri": "https://localhost:8080/",
          "height": 575
        },
        "outputId": "9cad407d-b543-4fb5-fa53-72c41fd7b66f"
      },
      "source": [
        "plt.subplots(figsize = (8,8))\n",
        "data_fitur = dataset[['enginesize', 'boreratio', 'stroke','compressionratio', 'horsepower', 'peakrpm', 'wheelbase', 'citympg', 'highwaympg']]\n",
        "sns.heatmap(data_fitur.corr(),annot=False,fmt=\"f\").set_title(\"Korelasi Heatmap Calon Variabel X\")\n",
        "plt.show()"
      ],
      "execution_count": null,
      "outputs": [
        {
          "output_type": "display_data",
          "data": {
            "image/png": "[encoded data removed]",
            "text/plain": [
              "<Figure size 576x576 with 2 Axes>"
            ]
          },
          "metadata": {
            "needs_background": "light"
          }
        }
      ]
    },
    {
      "cell_type": "markdown",
      "metadata": {
        "id": "0v44V68Q4iN-"
      },
      "source": [
        "Dari hasil visualisasi diatas bahwa fitur/kolom enginesize memiliki korelasi yang tinggi terhadap kolom price / variabel dependent sehingga kita mengambil fitur/kolom enginesize untuk di training\n",
        "* Independent variabel(x) adalah enginesize.\n",
        "* Dependent variabel(y) adalah price."
      ]
    },
    {
      "cell_type": "markdown",
      "metadata": {
        "id": "EmVzq7DT4iOA"
      },
      "source": [
        "# Latihan (6)\n",
        "\n",
        "### Buat Visualisasi Scatter Plot antara calon variabel X(enginesize) dan y(price):"
      ]
    },
    {
      "cell_type": "code",
      "metadata": {
        "execution": {
          "iopub.execute_input": "2020-12-18T08:30:32.035146Z",
          "iopub.status.busy": "2020-12-18T08:30:32.034488Z",
          "iopub.status.idle": "2020-12-18T08:30:32.206455Z",
          "shell.execute_reply": "2020-12-18T08:30:32.206950Z"
        },
        "papermill": {
          "duration": 0.203289,
          "end_time": "2020-12-18T08:30:32.207124",
          "exception": false,
          "start_time": "2020-12-18T08:30:32.003835",
          "status": "completed"
        },
        "tags": [],
        "id": "jJQbRS5l4iOB",
        "colab": {
          "base_uri": "https://localhost:8080/",
          "height": 295
        },
        "outputId": "95e87100-0f44-4999-c6d5-4aeca100e9f9"
      },
      "source": [
        "plt.scatter(dataset['enginesize'], dataset['price'])\n",
        "plt.xlabel('enginesize')\n",
        "plt.ylabel('Price')\n",
        "plt.title('Scatter Plot enginesize vs Price')\n",
        "plt.show()"
      ],
      "execution_count": null,
      "outputs": [
        {
          "output_type": "display_data",
          "data": {
            "image/png": "[encoded data removed]",
            "text/plain": [
              "<Figure size 432x288 with 1 Axes>"
            ]
          },
          "metadata": {
            "needs_background": "light"
          }
        }
      ]
    },
    {
      "cell_type": "markdown",
      "metadata": {
        "papermill": {
          "duration": 0.029445,
          "end_time": "2020-12-18T08:30:32.270268",
          "exception": false,
          "start_time": "2020-12-18T08:30:32.240823",
          "status": "completed"
        },
        "tags": [],
        "id": "RYiACGbs4iOE"
      },
      "source": [
        "Scatter plot menunjukkan dengan jelas hubungan antarvariabel serta sebarannya di dataset. Selain itu, dengan scatter plot juga kita dapat mengindikasikan bahwa variabel enginesize dan price memiliki hubungan linear."
      ]
    },
    {
      "cell_type": "markdown",
      "metadata": {
        "papermill": {
          "duration": 0.029726,
          "end_time": "2020-12-18T08:30:32.420333",
          "exception": false,
          "start_time": "2020-12-18T08:30:32.390607",
          "status": "completed"
        },
        "tags": [],
        "id": "uEe6aYKK4iOF"
      },
      "source": [
        "    Catatan : korelasi 0.874145 adalah nilai yang cukup tinggi, artinya nilai price benar-benar sangat dipengaruhi oleh nilai enginesize, karena korelasi tinggi maka algoritma Regresi Linier ini cocok digunakan untuk data tersebut."
      ]
    },
    {
      "cell_type": "markdown",
      "metadata": {
        "id": "QPrqIgvR4iOH"
      },
      "source": [
        "# Latihan (7)\n",
        "\n",
        "### definisi variabel X(enginesize) dan y(price):"
      ]
    },
    {
      "cell_type": "code",
      "metadata": {
        "execution": {
          "iopub.execute_input": "2020-12-18T08:30:32.487401Z",
          "iopub.status.busy": "2020-12-18T08:30:32.486779Z",
          "iopub.status.idle": "2020-12-18T08:30:32.490079Z",
          "shell.execute_reply": "2020-12-18T08:30:32.489569Z"
        },
        "papermill": {
          "duration": 0.039247,
          "end_time": "2020-12-18T08:30:32.490191",
          "exception": false,
          "start_time": "2020-12-18T08:30:32.450944",
          "status": "completed"
        },
        "tags": [],
        "id": "m-I7FJZ34iOI"
      },
      "source": [
        "# Prepare data\n",
        "# Pertama, buat variabel x dan y.\n",
        "x = dataset['enginesize'].values.reshape(-1,1)\n",
        "y = dataset['price'].values.reshape(-1,1)"
      ],
      "execution_count": null,
      "outputs": []
    },
    {
      "cell_type": "markdown",
      "metadata": {
        "papermill": {
          "duration": 0.029755,
          "end_time": "2020-12-18T08:30:32.549961",
          "exception": false,
          "start_time": "2020-12-18T08:30:32.520206",
          "status": "completed"
        },
        "tags": [],
        "id": "AgVe31V34iOK"
      },
      "source": [
        "Formula Regresi Linear\n",
        "\n",
        "\n",
        "\"Jika kita melihat formula regresi linear, kita pasti ingat rumus persamaan garis yang pernah dipelajari di bangku sekolah, yaitu y = mx + c, dimana m merupakan gradien atau kemiringan garis dan c merupakan konstanta.\""
      ]
    },
    {
      "cell_type": "markdown",
      "metadata": {
        "papermill": {
          "duration": 0.029149,
          "end_time": "2020-12-18T08:30:32.609017",
          "exception": false,
          "start_time": "2020-12-18T08:30:32.579868",
          "status": "completed"
        },
        "tags": [],
        "id": "fdYNjoQm4iOR"
      },
      "source": [
        "* from scratch\n",
        "* y = ax + b atau y = w1x + w0 atau y = mx + c\n",
        "* x = input\n",
        "* y = output\n",
        "* b atau w0 = intercept / bias\n",
        "* a atau w1 = slope / gradient / coefficient"
      ]
    },
    {
      "cell_type": "markdown",
      "metadata": {
        "id": "M658BGy64iOX"
      },
      "source": [
        "# Latihan (8)\n",
        "\n",
        "### definisi variabel nilai mean/rata-rata X(enginesize) dan nilai mean/rata-rata y(price):"
      ]
    },
    {
      "cell_type": "code",
      "metadata": {
        "execution": {
          "iopub.execute_input": "2020-12-18T08:30:32.674748Z",
          "iopub.status.busy": "2020-12-18T08:30:32.673809Z",
          "iopub.status.idle": "2020-12-18T08:30:32.677985Z",
          "shell.execute_reply": "2020-12-18T08:30:32.677176Z"
        },
        "papermill": {
          "duration": 0.039414,
          "end_time": "2020-12-18T08:30:32.678158",
          "exception": false,
          "start_time": "2020-12-18T08:30:32.638744",
          "status": "completed"
        },
        "tags": [],
        "id": "Hq_0QKMr4iOZ",
        "colab": {
          "base_uri": "https://localhost:8080/"
        },
        "outputId": "ab25e8d4-8851-42cd-d0c7-e5e0311a1334"
      },
      "source": [
        "x_mean = np.mean(x)\n",
        "y_mean = np.mean(y)\n",
        "print('nilai mean var x: ', x_mean,'\\n'\n",
        "      'nilai mean var y: ', y_mean)"
      ],
      "execution_count": null,
      "outputs": [
        {
          "output_type": "stream",
          "name": "stdout",
          "text": [
            "nilai mean var x:  126.90731707317073 \n",
            "nilai mean var y:  13276.710570731706\n"
          ]
        }
      ]
    },
    {
      "cell_type": "markdown",
      "metadata": {
        "id": "-mHBK4xD4iOc"
      },
      "source": [
        "# Latihan (9)\n",
        "\n",
        "### carilah nilai koefisien korelasi nya dengan rumus dibawah:"
      ]
    },
    {
      "cell_type": "code",
      "metadata": {
        "execution": {
          "iopub.execute_input": "2020-12-18T08:30:32.808713Z",
          "iopub.status.busy": "2020-12-18T08:30:32.808111Z",
          "iopub.status.idle": "2020-12-18T08:30:32.810865Z",
          "shell.execute_reply": "2020-12-18T08:30:32.811361Z"
        },
        "papermill": {
          "duration": 0.040011,
          "end_time": "2020-12-18T08:30:32.811493",
          "exception": false,
          "start_time": "2020-12-18T08:30:32.771482",
          "status": "completed"
        },
        "scrolled": true,
        "tags": [],
        "id": "Ie1NpT2y4iOf",
        "colab": {
          "base_uri": "https://localhost:8080/"
        },
        "outputId": "227704c0-49bd-4196-acba-967be8618113"
      },
      "source": [
        "atas = sum((x - x_mean)*(y - y_mean))\n",
        "bawah = math.sqrt((sum((x - x_mean)**2)) * (sum((y - y_mean)**2)))\n",
        "correlation = atas/bawah\n",
        "print('Nilai Correlation Coefficient: ', correlation)"
      ],
      "execution_count": null,
      "outputs": [
        {
          "output_type": "stream",
          "name": "stdout",
          "text": [
            "Nilai Correlation Coefficient:  [0.8741448]\n"
          ]
        }
      ]
    },
    {
      "cell_type": "markdown",
      "metadata": {
        "id": "MOnvzYlr4iOx"
      },
      "source": [
        "\n",
        "### carilah nilai parameter theta 1 dan theta 0 dengan rumus dibawah:"
      ]
    },
    {
      "cell_type": "markdown",
      "metadata": {
        "papermill": {
          "duration": 0.030976,
          "end_time": "2020-12-18T08:30:32.934757",
          "exception": false,
          "start_time": "2020-12-18T08:30:32.903781",
          "status": "completed"
        },
        "tags": [],
        "id": "58FFMcdy4iPp"
      },
      "source": [
        "    theta_1 = ((111-104.11) * (13495-13276.71)) + ... + ((114-104.11) * (22625-13276.71)) / ((111-104.11)^2 + ... + (114-104.11)^2)"
      ]
    },
    {
      "cell_type": "markdown",
      "metadata": {
        "id": "vZil-0pM4iPr"
      },
      "source": [
        "# Latihan (10)\n",
        "\n",
        "### carilah nilai theta_1 atau nilai slope"
      ]
    },
    {
      "cell_type": "code",
      "metadata": {
        "execution": {
          "iopub.execute_input": "2020-12-18T08:30:33.005543Z",
          "iopub.status.busy": "2020-12-18T08:30:33.004468Z",
          "iopub.status.idle": "2020-12-18T08:30:33.010438Z",
          "shell.execute_reply": "2020-12-18T08:30:33.009840Z"
        },
        "papermill": {
          "duration": 0.044938,
          "end_time": "2020-12-18T08:30:33.010565",
          "exception": false,
          "start_time": "2020-12-18T08:30:32.965627",
          "status": "completed"
        },
        "tags": [],
        "id": "ASiU_Cof4iPt",
        "colab": {
          "base_uri": "https://localhost:8080/"
        },
        "outputId": "c5a29aa6-ccbb-4f77-a047-4444fa3e4ddb"
      },
      "source": [
        "# slope\n",
        "# Slope adalah tingkat kemiringan garis, intercept \n",
        "# adalah jarak titik y pada garis dari titik 0\n",
        "variance = sum((x - x_mean)**2)\n",
        "covariance = sum((x - x_mean) * (y - y_mean))\n",
        "theta_1 = covariance/variance\n",
        "print('Nilai theta_1: ',theta_1)"
      ],
      "execution_count": null,
      "outputs": [
        {
          "output_type": "stream",
          "name": "stdout",
          "text": [
            "Nilai theta_1:  [167.69841639]\n"
          ]
        }
      ]
    },
    {
      "cell_type": "markdown",
      "metadata": {
        "id": "x6iFyG3Q4iPv"
      },
      "source": [
        "# Latihan (11)\n",
        "\n",
        "### carilah nilai theta_0 atau nilai intercept "
      ]
    },
    {
      "cell_type": "code",
      "metadata": {
        "execution": {
          "iopub.execute_input": "2020-12-18T08:30:33.079065Z",
          "iopub.status.busy": "2020-12-18T08:30:33.078382Z",
          "iopub.status.idle": "2020-12-18T08:30:33.082610Z",
          "shell.execute_reply": "2020-12-18T08:30:33.082175Z"
        },
        "papermill": {
          "duration": 0.040263,
          "end_time": "2020-12-18T08:30:33.082718",
          "exception": false,
          "start_time": "2020-12-18T08:30:33.042455",
          "status": "completed"
        },
        "tags": [],
        "id": "LYThR_fh4iPw",
        "colab": {
          "base_uri": "https://localhost:8080/"
        },
        "outputId": "a2b531ce-c436-457b-b1e2-f8087e020cbb"
      },
      "source": [
        "# intercept\n",
        "theta_0 = y_mean - (theta_1 * x_mean)\n",
        "print('Nilai theta_1: ',theta_0)"
      ],
      "execution_count": null,
      "outputs": [
        {
          "output_type": "stream",
          "name": "stdout",
          "text": [
            "Nilai theta_1:  [-8005.44553115]\n"
          ]
        }
      ]
    },
    {
      "cell_type": "markdown",
      "metadata": {
        "papermill": {
          "duration": 0.031581,
          "end_time": "2020-12-18T08:30:33.145931",
          "exception": false,
          "start_time": "2020-12-18T08:30:33.114350",
          "status": "completed"
        },
        "tags": [],
        "id": "jxdMjJz74iPy"
      },
      "source": [
        "### Maka persamaan garis : \n",
        "\n",
        "#     **y = 167.69x - 8005.44**\n",
        "\n",
        "Jadi persamaan garis diatas dapat digunakan untuk melakukan prediksi apabila kita memiliki data enginesize yang baru, price dapat diperkirakan dengan rumus tersebut, masukkan nilai enginesize baru ke x, maka perkiraan nilai y (price) akan didapat."
      ]
    },
    {
      "cell_type": "markdown",
      "metadata": {
        "id": "K5iolwNk4iP0"
      },
      "source": [
        "# Latihan (12)\n",
        "\n",
        "### carilah nilai prediksi secara manual dan buatlah visualisasi scater plot nya"
      ]
    },
    {
      "cell_type": "code",
      "metadata": {
        "execution": {
          "iopub.execute_input": "2020-12-18T08:30:33.214509Z",
          "iopub.status.busy": "2020-12-18T08:30:33.213684Z",
          "iopub.status.idle": "2020-12-18T08:30:33.217440Z",
          "shell.execute_reply": "2020-12-18T08:30:33.216816Z"
        },
        "papermill": {
          "duration": 0.040288,
          "end_time": "2020-12-18T08:30:33.217550",
          "exception": false,
          "start_time": "2020-12-18T08:30:33.177262",
          "status": "completed"
        },
        "tags": [],
        "id": "qbHEPo514iP1",
        "colab": {
          "base_uri": "https://localhost:8080/"
        },
        "outputId": "456c8a87-0c3e-4a32-c635-6d33cfdbda31"
      },
      "source": [
        "# prediction manual\n",
        "y_pred = theta_0 + (theta_1 * 130)\n",
        "\n",
        "print(y_pred)"
      ],
      "execution_count": null,
      "outputs": [
        {
          "output_type": "stream",
          "name": "stdout",
          "text": [
            "[13795.34859997]\n"
          ]
        }
      ]
    },
    {
      "cell_type": "code",
      "metadata": {
        "execution": {
          "iopub.execute_input": "2020-12-18T08:30:33.294110Z",
          "iopub.status.busy": "2020-12-18T08:30:33.292354Z",
          "iopub.status.idle": "2020-12-18T08:30:33.418869Z",
          "shell.execute_reply": "2020-12-18T08:30:33.418292Z"
        },
        "papermill": {
          "duration": 0.169189,
          "end_time": "2020-12-18T08:30:33.418977",
          "exception": false,
          "start_time": "2020-12-18T08:30:33.249788",
          "status": "completed"
        },
        "tags": [],
        "id": "i8Db5Zr54iP5",
        "colab": {
          "base_uri": "https://localhost:8080/",
          "height": 312
        },
        "outputId": "c19d060c-adc0-4a34-e0ab-379279f2d5d9"
      },
      "source": [
        "# visualisasi prediksi dengan scatter plot\n",
        "y_pred = theta_0 + (theta_1 * x)\n",
        "\n",
        "plt.scatter(x,y)\n",
        "plt.plot(x, y_pred, c='r')\n",
        "plt.xlabel('enginesize')\n",
        "plt.ylabel('Price')\n",
        "plt.title('Plot enginesize vs Price')"
      ],
      "execution_count": null,
      "outputs": [
        {
          "output_type": "execute_result",
          "data": {
            "text/plain": [
              "Text(0.5, 1.0, 'Plot enginesize vs Price')"
            ]
          },
          "metadata": {},
          "execution_count": 31
        },
        {
          "output_type": "display_data",
          "data": {
            "image/png": "[encoded data removed]",
            "text/plain": [
              "<Figure size 432x288 with 1 Axes>"
            ]
          },
          "metadata": {
            "needs_background": "light"
          }
        }
      ]
    },
    {
      "cell_type": "markdown",
      "metadata": {
        "papermill": {
          "duration": 0.03294,
          "end_time": "2020-12-18T08:30:33.484478",
          "exception": false,
          "start_time": "2020-12-18T08:30:33.451538",
          "status": "completed"
        },
        "tags": [],
        "id": "Q0OVWhAm4iP7"
      },
      "source": [
        "Linier Regression digunakan untuk Prediksi dengan mencari pola garis terbaik antara variable independent dan dependen\n",
        "\n",
        "Pros:\n",
        "\n",
        "    Mudah diimplementasikan\n",
        "    Digunakan untuk memprediksi nilai numerik/ continous /data jenis interval dan ratio\n",
        "\n",
        "Cons :\n",
        "\n",
        "    Cenderung mudah Overfitting\n",
        "    Tidak dapat digunakan bila relasi antara variabel independen dan dependen tidak linier atau korelasi variabel rendah"
      ]
    },
    {
      "cell_type": "markdown",
      "metadata": {
        "papermill": {
          "duration": 0.032437,
          "end_time": "2020-12-18T08:30:33.550039",
          "exception": false,
          "start_time": "2020-12-18T08:30:33.517602",
          "status": "completed"
        },
        "tags": [],
        "id": "e3cf02PX4iP8"
      },
      "source": [
        "# Linier Regression dengan menggunakan library sklearn"
      ]
    },
    {
      "cell_type": "markdown",
      "metadata": {
        "id": "B4RgDd6s4iP-"
      },
      "source": [
        "1. Pertama yang kita lakukan adalah split data, Train/test split adalah salah satu metode yang dapat digunakan untuk mengevaluasi performa model machine learning. Metode evaluasi model ini membagi dataset menjadi dua bagian yakni bagian yang digunakan untuk training data dan untuk testing data dengan proporsi tertentu. Train data digunakan untuk fit model machine learning, sedangkan test data digunakan untuk mengevaluasi hasil fit model tersebut.\n",
        "\n",
        "\n",
        "\n",
        "\n",
        "\n",
        "Python memiliki library yang dapat mengimplementasikan train/test split dengan mudah yaitu Scikit-Learn. Untuk menggunakannya, kita perlu mengimport Scikit-Learn terlebih dahulu, kemudian setelah itu kita dapat menggunakan fungsi train_test_split()."
      ]
    },
    {
      "cell_type": "markdown",
      "metadata": {
        "id": "F6p4n3HV4iQA"
      },
      "source": [
        "# Latihan (13)\n",
        "\n",
        "### split data train dan test dengan function  train_test_split() dengan train_size=0.8, test_size=0.2 dan random_state=100"
      ]
    },
    {
      "cell_type": "code",
      "metadata": {
        "execution": {
          "iopub.execute_input": "2020-12-18T08:30:33.621686Z",
          "iopub.status.busy": "2020-12-18T08:30:33.621079Z",
          "iopub.status.idle": "2020-12-18T08:30:33.623710Z",
          "shell.execute_reply": "2020-12-18T08:30:33.624122Z"
        },
        "papermill": {
          "duration": 0.041493,
          "end_time": "2020-12-18T08:30:33.624262",
          "exception": false,
          "start_time": "2020-12-18T08:30:33.582769",
          "status": "completed"
        },
        "tags": [],
        "id": "LN-a4v524iQB"
      },
      "source": [
        "X_train,X_test,y_train,y_test = train_test_split(x, y, train_size = 0.8, test_size = 0.2, random_state = 100)"
      ],
      "execution_count": null,
      "outputs": []
    },
    {
      "cell_type": "markdown",
      "metadata": {
        "id": "9GPi8bVg4iQC"
      },
      "source": [
        "* X_train: Untuk menampung data source yang akan dilatih.\n",
        "* X_test: Untuk menampung data target yang akan dilatih.\n",
        "* y_train: Untuk menampung data source yang akan digunakan untuk testing.\n",
        "* y_test: Untuk menampung data target yang akan digunakan untuk testing.\n",
        "\n",
        "X dan y adalah nama variabel yang digunakan saat mendefinisikan data source dan data target. Parameter *test_size* digunakan untuk mendefinisikan ukuran data testing. Dalam contoh di atas, test_size=0.2 berarti data yang digunakan sebagai data testing adalah sebesar 20% dari keseluruhan dataset.\n",
        "\n",
        "Perlu diketahui bahwa metode ini akan membagi train set dan test set secara random atau acak. Jadi, jika kita mengulang proses running, maka tentunya hasil yang didapat akan berubah-ubah. Untuk mengatasinya, kita dapat menggunakan parameter *random_state*"
      ]
    },
    {
      "cell_type": "markdown",
      "metadata": {
        "id": "aBrsvxZZ4iQE"
      },
      "source": [
        "# Latihan (14)\n",
        "\n",
        "### buat object variabel linier regression"
      ]
    },
    {
      "cell_type": "code",
      "metadata": {
        "execution": {
          "iopub.execute_input": "2020-12-18T08:30:33.694755Z",
          "iopub.status.busy": "2020-12-18T08:30:33.694174Z",
          "iopub.status.idle": "2020-12-18T08:30:33.697468Z",
          "shell.execute_reply": "2020-12-18T08:30:33.696926Z"
        },
        "papermill": {
          "duration": 0.040318,
          "end_time": "2020-12-18T08:30:33.697587",
          "exception": false,
          "start_time": "2020-12-18T08:30:33.657269",
          "status": "completed"
        },
        "tags": [],
        "id": "XFkVEtYh4iQK"
      },
      "source": [
        "regressor = LinearRegression()"
      ],
      "execution_count": null,
      "outputs": []
    },
    {
      "cell_type": "markdown",
      "metadata": {
        "id": "CqKZWnje4iQO"
      },
      "source": [
        "# Latihan (15)\n",
        "\n",
        "### training the model menggunakan training data yang sudah displit sebelumnya."
      ]
    },
    {
      "cell_type": "code",
      "metadata": {
        "execution": {
          "iopub.execute_input": "2020-12-18T08:30:33.801190Z",
          "iopub.status.busy": "2020-12-18T08:30:33.800520Z",
          "iopub.status.idle": "2020-12-18T08:30:33.806523Z",
          "shell.execute_reply": "2020-12-18T08:30:33.806978Z"
        },
        "papermill": {
          "duration": 0.075335,
          "end_time": "2020-12-18T08:30:33.807149",
          "exception": false,
          "start_time": "2020-12-18T08:30:33.731814",
          "status": "completed"
        },
        "tags": [],
        "id": "SrZi_6CQ4iQR",
        "colab": {
          "base_uri": "https://localhost:8080/"
        },
        "outputId": "341864b3-e94e-4235-e18e-f51e0e7c2552"
      },
      "source": [
        "regressor.fit(X_train, y_train)"
      ],
      "execution_count": null,
      "outputs": [
        {
          "output_type": "execute_result",
          "data": {
            "text/plain": [
              "LinearRegression()"
            ]
          },
          "metadata": {},
          "execution_count": 34
        }
      ]
    },
    {
      "cell_type": "markdown",
      "metadata": {
        "id": "sN-4C8nu4iQT"
      },
      "source": [
        "# Latihan (16)\n",
        "\n",
        "### cari tau nilai slope/koefisien (m) dan intercept (b), dengan menggunakan function dari library sklearn -> LinierRegression"
      ]
    },
    {
      "cell_type": "code",
      "metadata": {
        "execution": {
          "iopub.execute_input": "2020-12-18T08:30:33.878113Z",
          "iopub.status.busy": "2020-12-18T08:30:33.877212Z",
          "iopub.status.idle": "2020-12-18T08:30:33.883776Z",
          "shell.execute_reply": "2020-12-18T08:30:33.884245Z"
        },
        "papermill": {
          "duration": 0.043547,
          "end_time": "2020-12-18T08:30:33.884393",
          "exception": false,
          "start_time": "2020-12-18T08:30:33.840846",
          "status": "completed"
        },
        "tags": [],
        "id": "2fJ3Eehh4iQU",
        "colab": {
          "base_uri": "https://localhost:8080/"
        },
        "outputId": "ea8019b2-14a9-4e3a-e726-261c9cecf766"
      },
      "source": [
        "print(regressor.coef_)\n",
        "print(regressor.intercept_)"
      ],
      "execution_count": null,
      "outputs": [
        {
          "output_type": "stream",
          "name": "stdout",
          "text": [
            "[[168.17363122]]\n",
            "[-8037.06049611]\n"
          ]
        }
      ]
    },
    {
      "cell_type": "markdown",
      "metadata": {
        "id": "9r-prjjK4iQW"
      },
      "source": [
        "Dari nilai m dan b diatas, kalau dimasukan ke dalam rumus persamaan menjadi:\n",
        "#     **y = 168.17x - 8037.06**"
      ]
    },
    {
      "cell_type": "markdown",
      "metadata": {
        "id": "4JYtsEId4iQX"
      },
      "source": [
        "# Latihan (17)\n",
        "\n",
        "### cari tahu accuracy score dari model kita menggunakan testing data yang sudah displit sebelumnya. Dan nilai korelasinya"
      ]
    },
    {
      "cell_type": "code",
      "metadata": {
        "execution": {
          "iopub.execute_input": "2020-12-18T08:30:33.959129Z",
          "iopub.status.busy": "2020-12-18T08:30:33.958240Z",
          "iopub.status.idle": "2020-12-18T08:30:33.962254Z",
          "shell.execute_reply": "2020-12-18T08:30:33.961756Z"
        },
        "papermill": {
          "duration": 0.043548,
          "end_time": "2020-12-18T08:30:33.962361",
          "exception": false,
          "start_time": "2020-12-18T08:30:33.918813",
          "status": "completed"
        },
        "tags": [],
        "id": "vP41lwpc4iQa",
        "colab": {
          "base_uri": "https://localhost:8080/"
        },
        "outputId": "e9b5bcb1-9701-4011-d311-fa8c810db788"
      },
      "source": [
        "regressor.score(X_test,y_test)"
      ],
      "execution_count": null,
      "outputs": [
        {
          "output_type": "execute_result",
          "data": {
            "text/plain": [
              "0.8068161903454086"
            ]
          },
          "metadata": {},
          "execution_count": 36
        }
      ]
    },
    {
      "cell_type": "markdown",
      "metadata": {
        "papermill": {
          "duration": 0.03398,
          "end_time": "2020-12-18T08:30:34.031323",
          "exception": false,
          "start_time": "2020-12-18T08:30:33.997343",
          "status": "completed"
        },
        "tags": [],
        "id": "mZ_cu_5a4iQd"
      },
      "source": [
        "Model kita mendapatkan accuracy score sebesar 80.68%"
      ]
    },
    {
      "cell_type": "code",
      "metadata": {
        "execution": {
          "iopub.execute_input": "2020-12-18T08:30:34.105461Z",
          "iopub.status.busy": "2020-12-18T08:30:34.104776Z",
          "iopub.status.idle": "2020-12-18T08:30:34.108251Z",
          "shell.execute_reply": "2020-12-18T08:30:34.108703Z"
        },
        "papermill": {
          "duration": 0.043526,
          "end_time": "2020-12-18T08:30:34.108834",
          "exception": false,
          "start_time": "2020-12-18T08:30:34.065308",
          "status": "completed"
        },
        "tags": [],
        "id": "rv5CbmTl4iQf",
        "colab": {
          "base_uri": "https://localhost:8080/"
        },
        "outputId": "3d749d6b-e48a-4f5c-a6a9-88df29237992"
      },
      "source": [
        "print('Correlation: ', math.sqrt(regressor.score(X_test,y_test)))"
      ],
      "execution_count": null,
      "outputs": [
        {
          "output_type": "stream",
          "name": "stdout",
          "text": [
            "Correlation:  0.8982294753265496\n"
          ]
        }
      ]
    },
    {
      "cell_type": "markdown",
      "metadata": {
        "id": "229bKZkF4iQi"
      },
      "source": [
        "# Latihan (18)\n",
        "\n",
        "### visualisasi Regression Line menggunakan data testing."
      ]
    },
    {
      "cell_type": "code",
      "metadata": {
        "execution": {
          "iopub.execute_input": "2020-12-18T08:30:34.189175Z",
          "iopub.status.busy": "2020-12-18T08:30:34.188233Z",
          "iopub.status.idle": "2020-12-18T08:30:34.330779Z",
          "shell.execute_reply": "2020-12-18T08:30:34.331214Z"
        },
        "papermill": {
          "duration": 0.188146,
          "end_time": "2020-12-18T08:30:34.331355",
          "exception": false,
          "start_time": "2020-12-18T08:30:34.143209",
          "status": "completed"
        },
        "scrolled": true,
        "tags": [],
        "id": "rFGH9KHr4iQk",
        "colab": {
          "base_uri": "https://localhost:8080/",
          "height": 312
        },
        "outputId": "c93eba90-c4f5-418d-8798-fd55c6f06b76"
      },
      "source": [
        "y_prediksi = regressor.predict(X_test)\n",
        "\n",
        "plt.scatter(X_test,y_test)\n",
        "plt.plot(X_test, y_prediksi, c='r')\n",
        "plt.xlabel('enginesize')\n",
        "plt.ylabel('Price')\n",
        "plt.title('Plot enginesize vs Price')"
      ],
      "execution_count": null,
      "outputs": [
        {
          "output_type": "execute_result",
          "data": {
            "text/plain": [
              "Text(0.5, 1.0, 'Plot enginesize vs Price')"
            ]
          },
          "metadata": {},
          "execution_count": 40
        },
        {
          "output_type": "display_data",
          "data": {
            "image/png": "[encoded data removed]",
            "text/plain": [
              "<Figure size 432x288 with 1 Axes>"
            ]
          },
          "metadata": {
            "needs_background": "light"
          }
        }
      ]
    },
    {
      "cell_type": "markdown",
      "metadata": {
        "id": "fxrQ_w9n4iQn"
      },
      "source": [
        "Garis merah merupakan Regression Line dari model yang telah dibuat sebelumnya."
      ]
    },
    {
      "cell_type": "markdown",
      "metadata": {
        "id": "KC0Dsve74iQo"
      },
      "source": [
        "# Latihan (19)\n",
        "\n",
        "### Setelah kita yakin dengan model yang dibuat, selanjutnya adalah prediksi dari harga mobil dengan enginesize 100, 150, dan 200."
      ]
    },
    {
      "cell_type": "code",
      "metadata": {
        "execution": {
          "iopub.execute_input": "2020-12-18T08:30:34.408038Z",
          "iopub.status.busy": "2020-12-18T08:30:34.407452Z",
          "iopub.status.idle": "2020-12-18T08:30:34.411176Z",
          "shell.execute_reply": "2020-12-18T08:30:34.410660Z"
        },
        "papermill": {
          "duration": 0.044337,
          "end_time": "2020-12-18T08:30:34.411292",
          "exception": false,
          "start_time": "2020-12-18T08:30:34.366955",
          "status": "completed"
        },
        "tags": [],
        "id": "NlMQz4SQ4iQq",
        "colab": {
          "base_uri": "https://localhost:8080/"
        },
        "outputId": "8337e451-c9fc-4ce2-c81f-4eba42873ccc"
      },
      "source": [
        "#Prediksi harga mobil dengan enginesize 130.\n",
        "\n",
        "print('nilai prediksi harga dengan enginesize 100 : ',regressor.predict([[100]]))\n",
        "print('nilai prediksi harga dengan enginesize 150 : ',regressor.predict([[150]]))\n",
        "print('nilai prediksi harga dengan enginesize 200 : ',regressor.predict([[200]]))"
      ],
      "execution_count": null,
      "outputs": [
        {
          "output_type": "stream",
          "name": "stdout",
          "text": [
            "nilai prediksi harga dengan enginesize 100 :  [[8780.30262568]]\n",
            "nilai prediksi harga dengan enginesize 150 :  [[17188.98418658]]\n",
            "nilai prediksi harga dengan enginesize 200 :  [[25597.66574748]]\n"
          ]
        }
      ]
    },
    {
      "cell_type": "code",
      "metadata": {
        "execution": {
          "iopub.execute_input": "2020-12-18T08:30:34.488804Z",
          "iopub.status.busy": "2020-12-18T08:30:34.488184Z",
          "iopub.status.idle": "2020-12-18T08:30:34.490700Z",
          "shell.execute_reply": "2020-12-18T08:30:34.490147Z"
        },
        "papermill": {
          "duration": 0.043737,
          "end_time": "2020-12-18T08:30:34.490818",
          "exception": false,
          "start_time": "2020-12-18T08:30:34.447081",
          "status": "completed"
        },
        "tags": [],
        "id": "Tv7zZSoh4iQs"
      },
      "source": [
        "np_table = np.concatenate((X_test,y_test,y_prediksi), axis=1)\n",
        "new_dataframe = pd.DataFrame(data=np_table, columns=['X_test','y_test','y_predict'])"
      ],
      "execution_count": null,
      "outputs": []
    },
    {
      "cell_type": "code",
      "metadata": {
        "execution": {
          "iopub.execute_input": "2020-12-18T08:30:34.567870Z",
          "iopub.status.busy": "2020-12-18T08:30:34.567095Z",
          "iopub.status.idle": "2020-12-18T08:30:34.580864Z",
          "shell.execute_reply": "2020-12-18T08:30:34.581377Z"
        },
        "papermill": {
          "duration": 0.054006,
          "end_time": "2020-12-18T08:30:34.581523",
          "exception": false,
          "start_time": "2020-12-18T08:30:34.527517",
          "status": "completed"
        },
        "tags": [],
        "id": "UfxKT4TL4iQu",
        "colab": {
          "base_uri": "https://localhost:8080/",
          "height": 1000
        },
        "outputId": "6e65be5a-f23f-47be-b7a1-7969c5dc276b"
      },
      "source": [
        "new_dataframe"
      ],
      "execution_count": null,
      "outputs": [
        {
          "output_type": "execute_result",
          "data": {
            "text/html": [
              "<div>\n",
              "<style scoped>\n",
              "    .dataframe tbody tr th:only-of-type {\n",
              "        vertical-align: middle;\n",
              "    }\n",
              "\n",
              "    .dataframe tbody tr th {\n",
              "        vertical-align: top;\n",
              "    }\n",
              "\n",
              "    .dataframe thead th {\n",
              "        text-align: right;\n",
              "    }\n",
              "</style>\n",
              "<table border=\"1\" class=\"dataframe\">\n",
              "  <thead>\n",
              "    <tr style=\"text-align: right;\">\n",
              "      <th></th>\n",
              "      <th>X_test</th>\n",
              "      <th>y_test</th>\n",
              "      <th>y_predict</th>\n",
              "    </tr>\n",
              "  </thead>\n",
              "  <tbody>\n",
              "    <tr>\n",
              "      <th>0</th>\n",
              "      <td>98.0</td>\n",
              "      <td>7738.0</td>\n",
              "      <td>8443.955363</td>\n",
              "    </tr>\n",
              "    <tr>\n",
              "      <th>1</th>\n",
              "      <td>109.0</td>\n",
              "      <td>8495.0</td>\n",
              "      <td>10293.865307</td>\n",
              "    </tr>\n",
              "    <tr>\n",
              "      <th>2</th>\n",
              "      <td>122.0</td>\n",
              "      <td>8845.0</td>\n",
              "      <td>12480.122512</td>\n",
              "    </tr>\n",
              "    <tr>\n",
              "      <th>3</th>\n",
              "      <td>98.0</td>\n",
              "      <td>9298.0</td>\n",
              "      <td>8443.955363</td>\n",
              "    </tr>\n",
              "    <tr>\n",
              "      <th>4</th>\n",
              "      <td>108.0</td>\n",
              "      <td>7603.0</td>\n",
              "      <td>10125.691675</td>\n",
              "    </tr>\n",
              "    <tr>\n",
              "      <th>5</th>\n",
              "      <td>122.0</td>\n",
              "      <td>11245.0</td>\n",
              "      <td>12480.122512</td>\n",
              "    </tr>\n",
              "    <tr>\n",
              "      <th>6</th>\n",
              "      <td>130.0</td>\n",
              "      <td>18420.0</td>\n",
              "      <td>13825.511562</td>\n",
              "    </tr>\n",
              "    <tr>\n",
              "      <th>7</th>\n",
              "      <td>140.0</td>\n",
              "      <td>16503.0</td>\n",
              "      <td>15507.247874</td>\n",
              "    </tr>\n",
              "    <tr>\n",
              "      <th>8</th>\n",
              "      <td>146.0</td>\n",
              "      <td>17669.0</td>\n",
              "      <td>16516.289662</td>\n",
              "    </tr>\n",
              "    <tr>\n",
              "      <th>9</th>\n",
              "      <td>181.0</td>\n",
              "      <td>17199.0</td>\n",
              "      <td>22402.366754</td>\n",
              "    </tr>\n",
              "    <tr>\n",
              "      <th>10</th>\n",
              "      <td>141.0</td>\n",
              "      <td>16845.0</td>\n",
              "      <td>15675.421506</td>\n",
              "    </tr>\n",
              "    <tr>\n",
              "      <th>11</th>\n",
              "      <td>121.0</td>\n",
              "      <td>18150.0</td>\n",
              "      <td>12311.948881</td>\n",
              "    </tr>\n",
              "    <tr>\n",
              "      <th>12</th>\n",
              "      <td>120.0</td>\n",
              "      <td>15580.0</td>\n",
              "      <td>12143.775250</td>\n",
              "    </tr>\n",
              "    <tr>\n",
              "      <th>13</th>\n",
              "      <td>110.0</td>\n",
              "      <td>12945.0</td>\n",
              "      <td>10462.038938</td>\n",
              "    </tr>\n",
              "    <tr>\n",
              "      <th>14</th>\n",
              "      <td>308.0</td>\n",
              "      <td>40960.0</td>\n",
              "      <td>43760.417919</td>\n",
              "    </tr>\n",
              "    <tr>\n",
              "      <th>15</th>\n",
              "      <td>92.0</td>\n",
              "      <td>6855.0</td>\n",
              "      <td>7434.913576</td>\n",
              "    </tr>\n",
              "    <tr>\n",
              "      <th>16</th>\n",
              "      <td>98.0</td>\n",
              "      <td>6938.0</td>\n",
              "      <td>8443.955363</td>\n",
              "    </tr>\n",
              "    <tr>\n",
              "      <th>17</th>\n",
              "      <td>121.0</td>\n",
              "      <td>12170.0</td>\n",
              "      <td>12311.948881</td>\n",
              "    </tr>\n",
              "    <tr>\n",
              "      <th>18</th>\n",
              "      <td>140.0</td>\n",
              "      <td>18280.0</td>\n",
              "      <td>15507.247874</td>\n",
              "    </tr>\n",
              "    <tr>\n",
              "      <th>19</th>\n",
              "      <td>156.0</td>\n",
              "      <td>14869.0</td>\n",
              "      <td>18198.025974</td>\n",
              "    </tr>\n",
              "    <tr>\n",
              "      <th>20</th>\n",
              "      <td>141.0</td>\n",
              "      <td>13415.0</td>\n",
              "      <td>15675.421506</td>\n",
              "    </tr>\n",
              "    <tr>\n",
              "      <th>21</th>\n",
              "      <td>141.0</td>\n",
              "      <td>16515.0</td>\n",
              "      <td>15675.421506</td>\n",
              "    </tr>\n",
              "    <tr>\n",
              "      <th>22</th>\n",
              "      <td>194.0</td>\n",
              "      <td>32528.0</td>\n",
              "      <td>24588.623960</td>\n",
              "    </tr>\n",
              "    <tr>\n",
              "      <th>23</th>\n",
              "      <td>90.0</td>\n",
              "      <td>5572.0</td>\n",
              "      <td>7098.566314</td>\n",
              "    </tr>\n",
              "    <tr>\n",
              "      <th>24</th>\n",
              "      <td>146.0</td>\n",
              "      <td>8449.0</td>\n",
              "      <td>16516.289662</td>\n",
              "    </tr>\n",
              "    <tr>\n",
              "      <th>25</th>\n",
              "      <td>181.0</td>\n",
              "      <td>13499.0</td>\n",
              "      <td>22402.366754</td>\n",
              "    </tr>\n",
              "    <tr>\n",
              "      <th>26</th>\n",
              "      <td>156.0</td>\n",
              "      <td>12764.0</td>\n",
              "      <td>18198.025974</td>\n",
              "    </tr>\n",
              "    <tr>\n",
              "      <th>27</th>\n",
              "      <td>183.0</td>\n",
              "      <td>28176.0</td>\n",
              "      <td>22738.714017</td>\n",
              "    </tr>\n",
              "    <tr>\n",
              "      <th>28</th>\n",
              "      <td>108.0</td>\n",
              "      <td>16925.0</td>\n",
              "      <td>10125.691675</td>\n",
              "    </tr>\n",
              "    <tr>\n",
              "      <th>29</th>\n",
              "      <td>119.0</td>\n",
              "      <td>11048.0</td>\n",
              "      <td>11975.601619</td>\n",
              "    </tr>\n",
              "    <tr>\n",
              "      <th>30</th>\n",
              "      <td>92.0</td>\n",
              "      <td>6189.0</td>\n",
              "      <td>7434.913576</td>\n",
              "    </tr>\n",
              "    <tr>\n",
              "      <th>31</th>\n",
              "      <td>209.0</td>\n",
              "      <td>30760.0</td>\n",
              "      <td>27111.228428</td>\n",
              "    </tr>\n",
              "    <tr>\n",
              "      <th>32</th>\n",
              "      <td>152.0</td>\n",
              "      <td>13860.0</td>\n",
              "      <td>17525.331449</td>\n",
              "    </tr>\n",
              "    <tr>\n",
              "      <th>33</th>\n",
              "      <td>141.0</td>\n",
              "      <td>19045.0</td>\n",
              "      <td>15675.421506</td>\n",
              "    </tr>\n",
              "    <tr>\n",
              "      <th>34</th>\n",
              "      <td>120.0</td>\n",
              "      <td>16630.0</td>\n",
              "      <td>12143.775250</td>\n",
              "    </tr>\n",
              "    <tr>\n",
              "      <th>35</th>\n",
              "      <td>110.0</td>\n",
              "      <td>10698.0</td>\n",
              "      <td>10462.038938</td>\n",
              "    </tr>\n",
              "    <tr>\n",
              "      <th>36</th>\n",
              "      <td>121.0</td>\n",
              "      <td>15040.0</td>\n",
              "      <td>12311.948881</td>\n",
              "    </tr>\n",
              "    <tr>\n",
              "      <th>37</th>\n",
              "      <td>146.0</td>\n",
              "      <td>9989.0</td>\n",
              "      <td>16516.289662</td>\n",
              "    </tr>\n",
              "    <tr>\n",
              "      <th>38</th>\n",
              "      <td>97.0</td>\n",
              "      <td>6849.0</td>\n",
              "      <td>8275.781732</td>\n",
              "    </tr>\n",
              "    <tr>\n",
              "      <th>39</th>\n",
              "      <td>122.0</td>\n",
              "      <td>8948.0</td>\n",
              "      <td>12480.122512</td>\n",
              "    </tr>\n",
              "    <tr>\n",
              "      <th>40</th>\n",
              "      <td>304.0</td>\n",
              "      <td>45400.0</td>\n",
              "      <td>43087.723394</td>\n",
              "    </tr>\n",
              "  </tbody>\n",
              "</table>\n",
              "</div>"
            ],
            "text/plain": [
              "    X_test   y_test     y_predict\n",
              "0     98.0   7738.0   8443.955363\n",
              "1    109.0   8495.0  10293.865307\n",
              "2    122.0   8845.0  12480.122512\n",
              "3     98.0   9298.0   8443.955363\n",
              "4    108.0   7603.0  10125.691675\n",
              "5    122.0  11245.0  12480.122512\n",
              "6    130.0  18420.0  13825.511562\n",
              "7    140.0  16503.0  15507.247874\n",
              "8    146.0  17669.0  16516.289662\n",
              "9    181.0  17199.0  22402.366754\n",
              "10   141.0  16845.0  15675.421506\n",
              "11   121.0  18150.0  12311.948881\n",
              "12   120.0  15580.0  12143.775250\n",
              "13   110.0  12945.0  10462.038938\n",
              "14   308.0  40960.0  43760.417919\n",
              "15    92.0   6855.0   7434.913576\n",
              "16    98.0   6938.0   8443.955363\n",
              "17   121.0  12170.0  12311.948881\n",
              "18   140.0  18280.0  15507.247874\n",
              "19   156.0  14869.0  18198.025974\n",
              "20   141.0  13415.0  15675.421506\n",
              "21   141.0  16515.0  15675.421506\n",
              "22   194.0  32528.0  24588.623960\n",
              "23    90.0   5572.0   7098.566314\n",
              "24   146.0   8449.0  16516.289662\n",
              "25   181.0  13499.0  22402.366754\n",
              "26   156.0  12764.0  18198.025974\n",
              "27   183.0  28176.0  22738.714017\n",
              "28   108.0  16925.0  10125.691675\n",
              "29   119.0  11048.0  11975.601619\n",
              "30    92.0   6189.0   7434.913576\n",
              "31   209.0  30760.0  27111.228428\n",
              "32   152.0  13860.0  17525.331449\n",
              "33   141.0  19045.0  15675.421506\n",
              "34   120.0  16630.0  12143.775250\n",
              "35   110.0  10698.0  10462.038938\n",
              "36   121.0  15040.0  12311.948881\n",
              "37   146.0   9989.0  16516.289662\n",
              "38    97.0   6849.0   8275.781732\n",
              "39   122.0   8948.0  12480.122512\n",
              "40   304.0  45400.0  43087.723394"
            ]
          },
          "metadata": {},
          "execution_count": 44
        }
      ]
    },
    {
      "cell_type": "markdown",
      "metadata": {
        "papermill": {
          "duration": 0.07781,
          "end_time": "2020-12-18T08:30:34.696988",
          "exception": false,
          "start_time": "2020-12-18T08:30:34.619178",
          "status": "completed"
        },
        "tags": [],
        "id": "weGdRIHN4iQw"
      },
      "source": [
        "Semakin tinggi nilai error, semakin besar errornya"
      ]
    },
    {
      "cell_type": "markdown",
      "metadata": {
        "id": "0zTKr2Zj4iQx"
      },
      "source": [
        "# Latihan (20)\n",
        "\n",
        "### Cetak nilai Mean Absolute Error, Mean Squared Error, dan Root Mean Squared Error"
      ]
    },
    {
      "cell_type": "code",
      "metadata": {
        "execution": {
          "iopub.execute_input": "2020-12-18T08:30:34.775502Z",
          "iopub.status.busy": "2020-12-18T08:30:34.774874Z",
          "iopub.status.idle": "2020-12-18T08:30:34.781935Z",
          "shell.execute_reply": "2020-12-18T08:30:34.782429Z"
        },
        "papermill": {
          "duration": 0.047646,
          "end_time": "2020-12-18T08:30:34.782568",
          "exception": false,
          "start_time": "2020-12-18T08:30:34.734922",
          "status": "completed"
        },
        "tags": [],
        "id": "JmZ_f71J4iQz",
        "colab": {
          "base_uri": "https://localhost:8080/"
        },
        "outputId": "85f3fc6d-58f3-45c7-e85c-6696b40c6ec8"
      },
      "source": [
        "from sklearn import metrics  \n",
        "print('Mean Absolute Error:', metrics.mean_absolute_error(y_test, y_prediksi))  \n",
        "print('Mean Squared Error:', metrics.mean_squared_error(y_test, y_prediksi))  \n",
        "print('Root Mean Squared Error:', np.sqrt(metrics.mean_squared_error(y_test, y_prediksi)))    "
      ],
      "execution_count": null,
      "outputs": [
        {
          "output_type": "stream",
          "name": "stdout",
          "text": [
            "Mean Absolute Error: 3123.611515387693\n",
            "Mean Squared Error: 14882644.972928163\n",
            "Root Mean Squared Error: 3857.8031278083854\n"
          ]
        }
      ]
    },
    {
      "cell_type": "code",
      "metadata": {
        "execution": {
          "iopub.execute_input": "2020-12-18T08:30:34.860236Z",
          "iopub.status.busy": "2020-12-18T08:30:34.859611Z",
          "iopub.status.idle": "2020-12-18T08:30:35.016823Z",
          "shell.execute_reply": "2020-12-18T08:30:35.016214Z"
        },
        "papermill": {
          "duration": 0.196894,
          "end_time": "2020-12-18T08:30:35.016931",
          "exception": false,
          "start_time": "2020-12-18T08:30:34.820037",
          "status": "completed"
        },
        "tags": [],
        "id": "xPo1_ykw4iQ1",
        "colab": {
          "base_uri": "https://localhost:8080/",
          "height": 295
        },
        "outputId": "a82481c1-4ad2-4c4c-a256-9f4457f8bb52"
      },
      "source": [
        "plt.title('Comparison of Y values in test and the Predicted values')\n",
        "plt.ylabel('Test Set')\n",
        "plt.xlabel('Predicted values')\n",
        "plt.plot(y_prediksi, '.', y_test, 'x')\n",
        "plt.show()"
      ],
      "execution_count": null,
      "outputs": [
        {
          "output_type": "display_data",
          "data": {
            "image/png": "[encoded data removed]",
            "text/plain": [
              "<Figure size 432x288 with 1 Axes>"
            ]
          },
          "metadata": {
            "needs_background": "light"
          }
        }
      ]
    }
  ]
}
