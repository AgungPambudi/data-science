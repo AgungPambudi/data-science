{
  "nbformat": 4,
  "nbformat_minor": 0,
  "metadata": {
    "colab": {
      "provenance": [],
      "include_colab_link": true
    },
    "kernelspec": {
      "name": "python3",
      "display_name": "Python 3"
    },
    "language_info": {
      "name": "python"
    }
  },
  "cells": [
    {
      "cell_type": "markdown",
      "metadata": {
        "id": "view-in-github",
        "colab_type": "text"
      },
      "source": [
        "<a href=\"https://colab.research.google.com/github/AgungPambudi/data-science/blob/main/polars_vs_pandas.ipynb\" target=\"_parent\"><img src=\"https://colab.research.google.com/assets/colab-badge.svg\" alt=\"Open In Colab\"/></a>"
      ]
    },
    {
      "cell_type": "markdown",
      "source": [
        "# 01) Polars"
      ],
      "metadata": {
        "id": "TrtsoH1XclxW"
      }
    },
    {
      "cell_type": "code",
      "source": [
        "# !pip install typing-extensions<4,>=3.7.4.3\n",
        "! pip install polars"
      ],
      "metadata": {
        "id": "Bolp28UplyCx",
        "colab": {
          "base_uri": "https://localhost:8080/"
        },
        "outputId": "b134ace7-d8fa-44e4-d362-8dc5421581b1"
      },
      "execution_count": null,
      "outputs": [
        {
          "output_type": "stream",
          "name": "stdout",
          "text": [
            "Collecting polars\n",
            "  Downloading polars-0.12.24-cp36-abi3-manylinux_2_12_x86_64.manylinux2010_x86_64.whl (10.2 MB)\n",
            "\u001b[K     |████████████████████████████████| 10.2 MB 16.1 MB/s \n",
            "\u001b[?25hCollecting typing_extensions>=4.0.0\n",
            "  Downloading typing_extensions-4.0.1-py3-none-any.whl (22 kB)\n",
            "Requirement already satisfied: numpy>=1.16.0 in /usr/local/lib/python3.7/dist-packages (from polars) (1.19.5)\n",
            "Installing collected packages: typing-extensions, polars\n",
            "  Attempting uninstall: typing-extensions\n",
            "    Found existing installation: typing-extensions 3.10.0.2\n",
            "    Uninstalling typing-extensions-3.10.0.2:\n",
            "      Successfully uninstalled typing-extensions-3.10.0.2\n",
            "\u001b[31mERROR: pip's dependency resolver does not currently take into account all the packages that are installed. This behaviour is the source of the following dependency conflicts.\n",
            "arviz 0.11.4 requires typing-extensions<4,>=3.7.4.3, but you have typing-extensions 4.0.1 which is incompatible.\u001b[0m\n",
            "Successfully installed polars-0.12.24 typing-extensions-4.0.1\n"
          ]
        }
      ]
    },
    {
      "cell_type": "code",
      "execution_count": null,
      "metadata": {
        "id": "AcXV0wF3kOx0"
      },
      "outputs": [],
      "source": [
        "import pandas as pd\n",
        "import numpy as np\n",
        "import time\n",
        "import polars as pl"
      ]
    },
    {
      "cell_type": "code",
      "source": [
        "nmin = 2\n",
        "nmax=5000\n",
        "# df = pd_create_random(nmax=5000000)\n",
        "df = pd.DataFrame()\n",
        "df['key'] = np.arange(0, nmax)\n",
        "for i in range(0, nmin):\n",
        "  df[ f'int{i}'] = np.random.randint(0, 100,size=(nmax, ))\n",
        "  df[ f'flo{i}'] = np.random.rand(1, nmax)[0] \n",
        "  df[ f'str{i}'] =  [ \",\".join([ str(t) for t in np.random.randint(10000000,999999999,size=(500, )) ] )  for k in range(0,nmax) ]\n",
        "print(df.head)\n",
        "df.to_parquet('myfile')"
      ],
      "metadata": {
        "id": "bSNow4XEkbov",
        "colab": {
          "base_uri": "https://localhost:8080/"
        },
        "outputId": "27b7a052-00f5-4c30-fb72-4e9fce61b93e"
      },
      "execution_count": null,
      "outputs": [
        {
          "output_type": "stream",
          "name": "stdout",
          "text": [
            "<bound method NDFrame.head of        key  int0  ...      flo1                                               str1\n",
            "0        0    77  ...  0.532411  129572193,161379504,560007030,39409361,5646859...\n",
            "1        1    60  ...  0.821610  479896937,166591274,22960819,955921722,2649981...\n",
            "2        2    37  ...  0.187986  581724495,792153200,912463265,385820551,985867...\n",
            "3        3    39  ...  0.960426  864878244,428722347,51383344,205167412,1806705...\n",
            "4        4     7  ...  0.853511  856069926,639227736,966028760,912889966,505677...\n",
            "...    ...   ...  ...       ...                                                ...\n",
            "4995  4995    42  ...  0.246752  131334653,699001996,990319857,608624628,267397...\n",
            "4996  4996    85  ...  0.841766  560652964,608204686,200347162,73818569,4842502...\n",
            "4997  4997    10  ...  0.229511  134346108,634803278,583669340,616762479,927811...\n",
            "4998  4998    45  ...  0.008502  859053825,18410487,130580246,48075785,76319930...\n",
            "4999  4999    34  ...  0.558168  884843338,526767794,255873533,869537727,416881...\n",
            "\n",
            "[5000 rows x 7 columns]>\n"
          ]
        }
      ]
    },
    {
      "cell_type": "code",
      "source": [
        "#### Pandas version\n",
        "dfp = pd.read_parquet('myfile')\n",
        "t0 = time.time()\n",
        "for i in range(nmin):\n",
        "  dfp['new1'] = dfp.apply(lambda x :  min( x['str1'].split(\",\"))   , axis=1)\n",
        "  dfp.groupby([f'int{i}']).agg({'count'})\n",
        "  dfp.groupby(['key']).apply(lambda x:\";\".join(x[f'str{i}'].values))\n",
        "  dfp.groupby([f'flo{i}']).agg({'sum'})\n",
        "print(time.time() - t0)\n",
        "dfp.to_parquet('myfile.parquet')"
      ],
      "metadata": {
        "id": "RbN9Fu2KpMyH",
        "colab": {
          "base_uri": "https://localhost:8080/"
        },
        "outputId": "7dc1479e-f510-422d-dd3b-5d8f71baf668"
      },
      "execution_count": null,
      "outputs": [
        {
          "output_type": "stream",
          "name": "stdout",
          "text": [
            "1.1416618824005127\n"
          ]
        }
      ]
    },
    {
      "cell_type": "code",
      "source": [
        "### POLARS Version \n",
        "df = pl.read_parquet('myfile')\n",
        "t0 = time.time()\n",
        "for i in range(nmin):\n",
        "  df['new1'] = df.select([\"*\",  pl.col(\"str1\").apply(lambda x : min(x.split(\",\")) ).alias(\"booknew\")])['booknew']\n",
        "  df.groupby(f'int{i}').agg(pl.all().count())\n",
        "  df.groupby('key').agg(pl.col(f'str{i}')).select([pl.col('key'), pl.col(f'str{i}').arr.join(\",\")])\n",
        "  df.groupby([f'flo{i}']).agg(pl.all().sum())\n",
        "print(time.time() - t0)\n",
        "df.to_parquet('myfile.parquet.polars')"
      ],
      "metadata": {
        "id": "vF5qVL3DXCk2",
        "colab": {
          "base_uri": "https://localhost:8080/"
        },
        "outputId": "494b21ea-d071-46f2-9394-825414fcd083"
      },
      "execution_count": null,
      "outputs": [
        {
          "output_type": "stream",
          "name": "stdout",
          "text": [
            "0.511763334274292\n"
          ]
        }
      ]
    },
    {
      "cell_type": "markdown",
      "source": [
        "### Let's compare our dataframes"
      ],
      "metadata": {
        "id": "eTNDYD7OouYY"
      }
    },
    {
      "cell_type": "code",
      "source": [
        "key = True\n",
        "for j in dfp.columns:\n",
        "  for i in range(nmax):\n",
        "    if dfp[j][i] != df[j][i]:\n",
        "      key = dfp[j][i], df[j][i]\n",
        "      break\n",
        "print(f'Our Pandas and Palars dataframe output are same: {key}')"
      ],
      "metadata": {
        "colab": {
          "base_uri": "https://localhost:8080/"
        },
        "id": "Gb2XEa44omZF",
        "outputId": "a2ac3299-383f-4a32-90ce-2ceabaa2309c"
      },
      "execution_count": null,
      "outputs": [
        {
          "output_type": "stream",
          "name": "stdout",
          "text": [
            "Our Pandas and Palars dataframe output are same: True\n"
          ]
        }
      ]
    },
    {
      "cell_type": "markdown",
      "source": [
        "# 02) Dict saving"
      ],
      "metadata": {
        "id": "FllufDEpEwvv"
      }
    },
    {
      "cell_type": "code",
      "source": [
        "#  https://stackoverflow.com/questions/57983431/whats-the-most-space-efficient-way-to-compress-serialized-python-data"
      ],
      "metadata": {
        "id": "TseoPxDiEvey"
      },
      "execution_count": null,
      "outputs": []
    },
    {
      "cell_type": "code",
      "source": [
        " ! pip install blosc"
      ],
      "metadata": {
        "id": "UF0bGMUaFh2K",
        "colab": {
          "base_uri": "https://localhost:8080/"
        },
        "outputId": "3e8adfd1-4c76-4a10-ec3d-642ce025f08a"
      },
      "execution_count": null,
      "outputs": [
        {
          "output_type": "stream",
          "name": "stdout",
          "text": [
            "Collecting blosc\n",
            "  Downloading blosc-1.10.6-cp37-cp37m-manylinux_2_5_x86_64.manylinux1_x86_64.manylinux_2_12_x86_64.manylinux2010_x86_64.whl (2.6 MB)\n",
            "\u001b[K     |████████████████████████████████| 2.6 MB 8.1 MB/s \n",
            "\u001b[?25hInstalling collected packages: blosc\n",
            "Successfully installed blosc-1.10.6\n"
          ]
        }
      ]
    },
    {
      "cell_type": "code",
      "source": [
        "import blosc\n",
        "import numpy as np\n",
        "import pickle\n",
        "\n",
        "# data = np.random.rand(0, 3, 100000)\n",
        "\n",
        "data = { str(i) :  \",\".join([ str(t) for t in np.random.randint(10000000,999999999,size=(512, )) ] )     for i in range(0, 70000) }\n"
      ],
      "metadata": {
        "id": "Ad138CM_Fh7P"
      },
      "execution_count": null,
      "outputs": []
    },
    {
      "cell_type": "code",
      "source": [
        "\n",
        "\n",
        "t0 = time.time()\n",
        "pickled_data = pickle.dumps(data)  # returns data as a bytes objecttime\n",
        "compressed_pickle = blosc.compress(pickled_data)\n",
        "\n",
        "with open(\"test.dat\", \"wb\") as f:\n",
        "    f.write(compressed_pickle)\n",
        "print(time.time()-t0)\n",
        "\n",
        "\n",
        "t0 = time.time()\n",
        "with open(\"test.dat\", \"rb\") as f:\n",
        "    compressed_pickle = f.read()\n",
        "\n",
        "depressed_pickle = blosc.decompress(compressed_pickle)\n",
        "data = pickle.loads(depressed_pickle)  # turn bytes object back into data\n",
        "print(str(data)[:100] )\n",
        "print(time.time()-t0)"
      ],
      "metadata": {
        "id": "pPUA9xYxEvhl",
        "colab": {
          "base_uri": "https://localhost:8080/"
        },
        "outputId": "d8302a76-7d3a-4be5-a051-87cd3d81d2ad"
      },
      "execution_count": null,
      "outputs": [
        {
          "output_type": "stream",
          "name": "stdout",
          "text": [
            "1.5925381183624268\n",
            "{'0': '839172569,57336951,132738278,485110074,884977886,643024554,415457049,322042677,300731604,6648\n",
            "2.4512014389038086\n"
          ]
        }
      ]
    },
    {
      "cell_type": "code",
      "source": [
        "LINES = 10000\n",
        "districts = np.random.choice(['A', 'B', 'C', 'D'], size=LINES, replace=True)\n",
        "space = np.random.randint(1000, size=LINES)\n",
        "price = np.random.randint(1000, size=LINES)\n",
        "data = {\n",
        "    \"District\": districts,\n",
        "    \"Space\": space,\n",
        "    \"Price\": price,\n",
        "}\n",
        "\n",
        "\n",
        "def pandas_test():\n",
        "  df = pd.DataFrame(data)\n",
        "  agg_df = df.groupby([\"District\"]).agg([min, np.average])\n",
        "  apply_df = df.groupby(\"District\").apply(lambda d: d.Space.sum() / d.Price.sum())\n",
        "  df.to_parquet('pandas1.parquet')\n",
        "  loaded_df = pd.read_parquet('pandas1.parquet')\n",
        "\n",
        "  return df, agg_df, apply_df, loaded_df\n",
        "\n",
        "\n",
        "def polars_test():\n",
        "  df = pl.DataFrame(data)\n",
        "  agg_df = df.groupby(\"District\", maintain_order=True).agg([pl.mean(\"*\"), pl.min(\"*\")])\n",
        "  apply_df = df.groupby(\"District\", maintain_order=True).agg(\n",
        "    pl.apply(\n",
        "        f=lambda spacePrice: spacePrice[0].sum() / spacePrice[1].sum(),\n",
        "        exprs=[\"Space\", \"Price\"]\n",
        "        )\n",
        "  )\n",
        "  df.to_parquet('polars1.parquet')\n",
        "  loaded_df = pl.read_parquet('polars1.parquet')\n",
        "\n",
        "  return df, agg_df, apply_df, loaded_df\n",
        "\n",
        "pandas_result = pandas_test()\n",
        "polars_result = polars_test()\n",
        "\n",
        "\n",
        "print(\"Pandas:\")\n",
        "%timeit pandas_test()\n",
        "\n",
        "print(\"Polars:\")\n",
        "%timeit polars_test()"
      ],
      "metadata": {
        "colab": {
          "base_uri": "https://localhost:8080/"
        },
        "id": "IWZKvUDcNud6",
        "outputId": "7221c612-4f30-443e-f02a-9c48873cdcbe"
      },
      "execution_count": null,
      "outputs": [
        {
          "output_type": "stream",
          "name": "stdout",
          "text": [
            "Pandas:\n",
            "The slowest run took 7.02 times longer than the fastest. This could mean that an intermediate result is being cached.\n",
            "10 loops, best of 5: 12.6 ms per loop\n",
            "Polars:\n",
            "100 loops, best of 5: 5.26 ms per loop\n"
          ]
        }
      ]
    },
    {
      "cell_type": "markdown",
      "source": [
        "## Pivoting Example\n",
        "\n"
      ],
      "metadata": {
        "id": "rD3-W6pQxSz_"
      }
    },
    {
      "cell_type": "markdown",
      "source": [
        "### Data generation"
      ],
      "metadata": {
        "id": "Jsd0N_BaxZbK"
      }
    },
    {
      "cell_type": "code",
      "source": [
        "import numpy as np\n",
        "import pandas as pd\n",
        "import polars as pl\n",
        "\n",
        "N_ROWS = 50\n",
        "\n",
        "event_sizes = np.random.randint(1,9, size=N_ROWS)\n",
        "data = {\n",
        "    'timestamp': np.arange(N_ROWS, dtype=np.float16) \\\n",
        "                    + np.random.randn(N_ROWS)+1,\n",
        "    'detector_type': np.random.choice(['MM', 'sTGC'], N_ROWS),\n",
        "    'sector_id': np.random.choice(np.arange(16)+1, N_ROWS),\n",
        "    'PCB_no': [np.random.choice(np.arange(4)+1, n)\n",
        "                    for n in event_sizes],\n",
        "    'reading': [np.random.randint(1, 1025, size=n)\n",
        "                for n in event_sizes]\n",
        "}\n",
        "\n",
        "df_pd = pd.DataFrame(data)\n",
        "df_pl = pl.from_pandas(df_pd)\n",
        "\n",
        "df_pl.head()"
      ],
      "metadata": {
        "colab": {
          "base_uri": "https://localhost:8080/",
          "height": 235
        },
        "id": "Az_Q_W9HxWXx",
        "outputId": "041e7745-3fe0-4714-d6df-a4b1d7a4142b"
      },
      "execution_count": null,
      "outputs": [
        {
          "output_type": "execute_result",
          "data": {
            "text/html": [
              "<div>\n",
              "<style scoped>\n",
              "    .dataframe tbody tr th:only-of-type {\n",
              "        vertical-align: middle;\n",
              "    }\n",
              "\n",
              "    .dataframe tbody tr th {\n",
              "        vertical-align: top;\n",
              "    }\n",
              "\n",
              "    .dataframe thead th {\n",
              "        text-align: right;\n",
              "    }\n",
              "</style>\n",
              "<table border=\"1 \"class=\"dataframe \">\n",
              "<thead>\n",
              "<tr>\n",
              "<th>\n",
              "timestamp\n",
              "</th>\n",
              "<th>\n",
              "detector_type\n",
              "</th>\n",
              "<th>\n",
              "sector_id\n",
              "</th>\n",
              "<th>\n",
              "PCB_no\n",
              "</th>\n",
              "<th>\n",
              "reading\n",
              "</th>\n",
              "</tr>\n",
              "<tr>\n",
              "<td>\n",
              "f64\n",
              "</td>\n",
              "<td>\n",
              "str\n",
              "</td>\n",
              "<td>\n",
              "i64\n",
              "</td>\n",
              "<td>\n",
              "list\n",
              "</td>\n",
              "<td>\n",
              "list\n",
              "</td>\n",
              "</tr>\n",
              "</thead>\n",
              "<tbody>\n",
              "<tr>\n",
              "<td>\n",
              "1.046554\n",
              "</td>\n",
              "<td>\n",
              "\"sTGC\"\n",
              "</td>\n",
              "<td>\n",
              "4\n",
              "</td>\n",
              "<td>\n",
              "[2, 4, ... 3]\n",
              "</td>\n",
              "<td>\n",
              "[683, 454, ... 248]\n",
              "</td>\n",
              "</tr>\n",
              "<tr>\n",
              "<td>\n",
              "1.706114\n",
              "</td>\n",
              "<td>\n",
              "\"MM\"\n",
              "</td>\n",
              "<td>\n",
              "16\n",
              "</td>\n",
              "<td>\n",
              "[2, 1, ... 2]\n",
              "</td>\n",
              "<td>\n",
              "[549, 918, ... 639]\n",
              "</td>\n",
              "</tr>\n",
              "<tr>\n",
              "<td>\n",
              "0.734288\n",
              "</td>\n",
              "<td>\n",
              "\"MM\"\n",
              "</td>\n",
              "<td>\n",
              "5\n",
              "</td>\n",
              "<td>\n",
              "[1, 3, ... 4]\n",
              "</td>\n",
              "<td>\n",
              "[456, 167, ... 527]\n",
              "</td>\n",
              "</tr>\n",
              "<tr>\n",
              "<td>\n",
              "3.193237\n",
              "</td>\n",
              "<td>\n",
              "\"MM\"\n",
              "</td>\n",
              "<td>\n",
              "3\n",
              "</td>\n",
              "<td>\n",
              "[3, 1, ... 2]\n",
              "</td>\n",
              "<td>\n",
              "[807, 193, ... 265]\n",
              "</td>\n",
              "</tr>\n",
              "<tr>\n",
              "<td>\n",
              "5.033244\n",
              "</td>\n",
              "<td>\n",
              "\"MM\"\n",
              "</td>\n",
              "<td>\n",
              "8\n",
              "</td>\n",
              "<td>\n",
              "[3, 2, ... 1]\n",
              "</td>\n",
              "<td>\n",
              "[517, 86, ... 376]\n",
              "</td>\n",
              "</tr>\n",
              "</tbody>\n",
              "</table>\n",
              "</div>"
            ],
            "text/plain": [
              "shape: (5, 5)\n",
              "┌───────────┬───────────────┬───────────┬───────────────┬─────────────────────┐\n",
              "│ timestamp ┆ detector_type ┆ sector_id ┆ PCB_no        ┆ reading             │\n",
              "│ ---       ┆ ---           ┆ ---       ┆ ---           ┆ ---                 │\n",
              "│ f64       ┆ str           ┆ i64       ┆ list [i64]    ┆ list [i64]          │\n",
              "╞═══════════╪═══════════════╪═══════════╪═══════════════╪═════════════════════╡\n",
              "│ 1.046554  ┆ sTGC          ┆ 4         ┆ [2, 4, ... 3] ┆ [683, 454, ... 248] │\n",
              "├╌╌╌╌╌╌╌╌╌╌╌┼╌╌╌╌╌╌╌╌╌╌╌╌╌╌╌┼╌╌╌╌╌╌╌╌╌╌╌┼╌╌╌╌╌╌╌╌╌╌╌╌╌╌╌┼╌╌╌╌╌╌╌╌╌╌╌╌╌╌╌╌╌╌╌╌╌┤\n",
              "│ 1.706114  ┆ MM            ┆ 16        ┆ [2, 1, ... 2] ┆ [549, 918, ... 639] │\n",
              "├╌╌╌╌╌╌╌╌╌╌╌┼╌╌╌╌╌╌╌╌╌╌╌╌╌╌╌┼╌╌╌╌╌╌╌╌╌╌╌┼╌╌╌╌╌╌╌╌╌╌╌╌╌╌╌┼╌╌╌╌╌╌╌╌╌╌╌╌╌╌╌╌╌╌╌╌╌┤\n",
              "│ 0.734288  ┆ MM            ┆ 5         ┆ [1, 3, ... 4] ┆ [456, 167, ... 527] │\n",
              "├╌╌╌╌╌╌╌╌╌╌╌┼╌╌╌╌╌╌╌╌╌╌╌╌╌╌╌┼╌╌╌╌╌╌╌╌╌╌╌┼╌╌╌╌╌╌╌╌╌╌╌╌╌╌╌┼╌╌╌╌╌╌╌╌╌╌╌╌╌╌╌╌╌╌╌╌╌┤\n",
              "│ 3.193237  ┆ MM            ┆ 3         ┆ [3, 1, ... 2] ┆ [807, 193, ... 265] │\n",
              "├╌╌╌╌╌╌╌╌╌╌╌┼╌╌╌╌╌╌╌╌╌╌╌╌╌╌╌┼╌╌╌╌╌╌╌╌╌╌╌┼╌╌╌╌╌╌╌╌╌╌╌╌╌╌╌┼╌╌╌╌╌╌╌╌╌╌╌╌╌╌╌╌╌╌╌╌╌┤\n",
              "│ 5.033244  ┆ MM            ┆ 8         ┆ [3, 2, ... 1] ┆ [517, 86, ... 376]  │\n",
              "└───────────┴───────────────┴───────────┴───────────────┴─────────────────────┘"
            ]
          },
          "metadata": {},
          "execution_count": 3
        }
      ]
    },
    {
      "cell_type": "markdown",
      "source": [
        "### `pandas`"
      ],
      "metadata": {
        "id": "RmrGIg0Ux-Ws"
      }
    },
    {
      "cell_type": "code",
      "source": [
        "%%time\n",
        "# get the mean value of 'PCB_no' and 'reading' through exploding and pivoting\n",
        "pivot_pd = df_pd.explode(['reading', 'PCB_no']).pivot_table(\n",
        "            index=[ 'timestamp', 'detector_type', 'sector_id'], \n",
        "            values=['reading', 'PCB_no'], aggfunc=np.mean\n",
        "        ).sort_values('timestamp').reset_index()\n",
        "        \n",
        "# get the total number of readings by detector type\n",
        "readings_by_type_pd = df_pd.explode(['reading', 'PCB_no']).groupby('detector_type')[['reading']].count()\\\n",
        "    .rename(columns={'reading':'reading_count'}).sort_index()\n",
        "\n",
        "# convert the pivot table to other types\n",
        "# python dictionary, arrow table, numpy array and json\n",
        "dict_pd = pivot_pd.to_dict()\n",
        "numpy_pd = pivot_pd.to_numpy()\n",
        "json_pd = pivot_pd.to_json()"
      ],
      "metadata": {
        "colab": {
          "base_uri": "https://localhost:8080/"
        },
        "id": "rXVCfv6hxkgd",
        "outputId": "c46ba5a6-2b6d-416e-b9be-055e5c89bfef"
      },
      "execution_count": null,
      "outputs": [
        {
          "output_type": "stream",
          "name": "stdout",
          "text": [
            "CPU times: user 62 ms, sys: 756 µs, total: 62.8 ms\n",
            "Wall time: 77.6 ms\n"
          ]
        }
      ]
    },
    {
      "cell_type": "markdown",
      "source": [
        "### `polars`"
      ],
      "metadata": {
        "id": "2MtXI6S4ySWx"
      }
    },
    {
      "cell_type": "code",
      "source": [
        "%%time\n",
        "# there is no `pivot_table` in polars\n",
        "# we use `melt` and `pivot` instead\n",
        "pivot_pl = df_pl.explode(['reading', 'PCB_no']).melt(\n",
        "                id_vars=['timestamp', 'detector_type', 'sector_id'], \n",
        "                value_vars=['PCB_no','reading']\n",
        "            ).pivot(index=[ 'timestamp','detector_type', 'sector_id'], \n",
        "                columns='variable', values='value', \n",
        "                aggregate_fn='mean') \\\n",
        "        .sort('timestamp')\n",
        "\n",
        "# for the readings by type we can use the same pandas syntax (sort of)\n",
        "# this comes with the price of a DeprecationWarning, but no speed compromise\n",
        "readings_by_type_pl = df_pl.explode(['reading', 'PCB_no']).groupby(\n",
        "                \"detector_type\", maintain_order=True\n",
        "                )[['reading']].count().sort('detector_type')\n",
        "\n",
        "# convert the pivot table to other types\n",
        "# python dictionary, numpy array and json string\n",
        "dict_pl = pivot_pl.to_dict()\n",
        "numpy_pl = pivot_pl.to_numpy()\n",
        "json_pl = pivot_pl.to_json()"
      ],
      "metadata": {
        "colab": {
          "base_uri": "https://localhost:8080/"
        },
        "id": "U9cfa0FDx9bt",
        "outputId": "c048156f-13e8-4800-f760-acb1ca5d80e4"
      },
      "execution_count": null,
      "outputs": [
        {
          "output_type": "stream",
          "name": "stdout",
          "text": [
            "accessing GroupBy by index is deprecated, consider using the `.agg` method\n",
            "CPU times: user 4.63 ms, sys: 944 µs, total: 5.58 ms\n",
            "Wall time: 5.66 ms\n"
          ]
        }
      ]
    },
    {
      "cell_type": "markdown",
      "source": [
        "#### comparison"
      ],
      "metadata": {
        "id": "BgnybVqQy1Pb"
      }
    },
    {
      "cell_type": "code",
      "source": [
        "print(readings_by_type_pd, readings_by_type_pl)"
      ],
      "metadata": {
        "colab": {
          "base_uri": "https://localhost:8080/"
        },
        "id": "_cLL1xXsyfeq",
        "outputId": "849516e1-9f8e-4f1b-d298-ba91986b6f8b"
      },
      "execution_count": null,
      "outputs": [
        {
          "output_type": "stream",
          "name": "stdout",
          "text": [
            "               reading_count\n",
            "detector_type               \n",
            "MM                       107\n",
            "sTGC                     144 shape: (2, 2)\n",
            "┌───────────────┬───────────────┐\n",
            "│ detector_type ┆ reading_count │\n",
            "│ ---           ┆ ---           │\n",
            "│ str           ┆ u32           │\n",
            "╞═══════════════╪═══════════════╡\n",
            "│ MM            ┆ 107           │\n",
            "├╌╌╌╌╌╌╌╌╌╌╌╌╌╌╌┼╌╌╌╌╌╌╌╌╌╌╌╌╌╌╌┤\n",
            "│ sTGC          ┆ 144           │\n",
            "└───────────────┴───────────────┘\n"
          ]
        }
      ]
    },
    {
      "cell_type": "code",
      "source": [
        "print(pivot_pd.head(), pivot_pl.head())"
      ],
      "metadata": {
        "colab": {
          "base_uri": "https://localhost:8080/"
        },
        "id": "T1cUvlS2zBrQ",
        "outputId": "00d12aa4-5d6f-4850-ba73-aac31be8bdf0"
      },
      "execution_count": null,
      "outputs": [
        {
          "output_type": "stream",
          "name": "stdout",
          "text": [
            "   timestamp detector_type  sector_id  PCB_no  reading\n",
            "0   0.734288            MM          5   1.875  363.125\n",
            "1   1.046554          sTGC          4   2.800  617.800\n",
            "2   1.706114            MM         16   2.400  645.800\n",
            "3   3.193237            MM          3   2.000  532.400\n",
            "4   3.792488            MM          4   2.000  943.000 shape: (5, 5)\n",
            "┌───────────┬───────────────┬───────────┬────────┬─────────┐\n",
            "│ timestamp ┆ detector_type ┆ sector_id ┆ PCB_no ┆ reading │\n",
            "│ ---       ┆ ---           ┆ ---       ┆ ---    ┆ ---     │\n",
            "│ f64       ┆ str           ┆ i64       ┆ f64    ┆ f64     │\n",
            "╞═══════════╪═══════════════╪═══════════╪════════╪═════════╡\n",
            "│ 0.734288  ┆ MM            ┆ 5         ┆ 1.875  ┆ 363.125 │\n",
            "├╌╌╌╌╌╌╌╌╌╌╌┼╌╌╌╌╌╌╌╌╌╌╌╌╌╌╌┼╌╌╌╌╌╌╌╌╌╌╌┼╌╌╌╌╌╌╌╌┼╌╌╌╌╌╌╌╌╌┤\n",
            "│ 1.046554  ┆ sTGC          ┆ 4         ┆ 2.8    ┆ 617.8   │\n",
            "├╌╌╌╌╌╌╌╌╌╌╌┼╌╌╌╌╌╌╌╌╌╌╌╌╌╌╌┼╌╌╌╌╌╌╌╌╌╌╌┼╌╌╌╌╌╌╌╌┼╌╌╌╌╌╌╌╌╌┤\n",
            "│ 1.706114  ┆ MM            ┆ 16        ┆ 2.4    ┆ 645.8   │\n",
            "├╌╌╌╌╌╌╌╌╌╌╌┼╌╌╌╌╌╌╌╌╌╌╌╌╌╌╌┼╌╌╌╌╌╌╌╌╌╌╌┼╌╌╌╌╌╌╌╌┼╌╌╌╌╌╌╌╌╌┤\n",
            "│ 3.193237  ┆ MM            ┆ 3         ┆ 2.0    ┆ 532.4   │\n",
            "├╌╌╌╌╌╌╌╌╌╌╌┼╌╌╌╌╌╌╌╌╌╌╌╌╌╌╌┼╌╌╌╌╌╌╌╌╌╌╌┼╌╌╌╌╌╌╌╌┼╌╌╌╌╌╌╌╌╌┤\n",
            "│ 3.792488  ┆ MM            ┆ 4         ┆ 2.0    ┆ 943.0   │\n",
            "└───────────┴───────────────┴───────────┴────────┴─────────┘\n"
          ]
        }
      ]
    },
    {
      "cell_type": "code",
      "source": [
        "# check if the numpy represtentations are identical\n",
        "assert( (numpy_pd != numpy_pl).sum() == 0)"
      ],
      "metadata": {
        "id": "2EfN8y0vzcK5"
      },
      "execution_count": null,
      "outputs": []
    }
  ]
}