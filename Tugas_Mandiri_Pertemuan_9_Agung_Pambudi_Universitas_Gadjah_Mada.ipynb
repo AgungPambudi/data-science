{
  "nbformat": 4,
  "nbformat_minor": 5,
  "metadata": {
    "kernelspec": {
      "display_name": "Python 3",
      "language": "python",
      "name": "python3"
    },
    "language_info": {
      "codemirror_mode": {
        "name": "ipython",
        "version": 3
      },
      "file_extension": ".py",
      "mimetype": "text/x-python",
      "name": "python",
      "nbconvert_exporter": "python",
      "pygments_lexer": "ipython3",
      "version": "3.8.8"
    },
    "colab": {
      "provenance": [],
      "include_colab_link": true
    }
  },
  "cells": [
    {
      "cell_type": "markdown",
      "metadata": {
        "id": "view-in-github",
        "colab_type": "text"
      },
      "source": [
        "<a href=\"https://colab.research.google.com/github/AgungPambudi/data-science/blob/main/Tugas_Mandiri_Pertemuan_9_Agung_Pambudi_Universitas_Gadjah_Mada.ipynb\" target=\"_parent\"><img src=\"https://colab.research.google.com/assets/colab-badge.svg\" alt=\"Open In Colab\"/></a>"
      ]
    },
    {
      "cell_type": "markdown",
      "metadata": {
        "id": "d57d62f8"
      },
      "source": [
        "# Hands-On\n",
        "---\n",
        "\n",
        "Hands-On ini digunakan pada kegiatan Microcredential Associate Data Scientist 2021"
      ],
      "id": "d57d62f8"
    },
    {
      "cell_type": "markdown",
      "metadata": {
        "id": "afcc8ef8"
      },
      "source": [
        "# Pertemuan 9\n",
        "---\n",
        "Pertemuan 9 (sembilan) pada Microcredential Associate Data Scientist 2021 menyampaikan materi mengenai Mengkonstruksi Data"
      ],
      "id": "afcc8ef8"
    },
    {
      "cell_type": "markdown",
      "metadata": {
        "id": "ec93c66e"
      },
      "source": [
        "## Pada Tugas Mandiri Pertemuan 9 \n",
        "\n",
        "#### silakan Anda kerjakan Latihan 1 s/d 10. Output yang anda lihat merupakan panduan yang dapat Anda ikuti dalam penulisan code :)"
      ],
      "id": "ec93c66e"
    },
    {
      "cell_type": "markdown",
      "metadata": {
        "id": "296142b0"
      },
      "source": [
        "# Latihan (1)\n",
        "\n",
        "### Melakukan import library yang dibutuhkan"
      ],
      "id": "296142b0"
    },
    {
      "cell_type": "code",
      "metadata": {
        "colab": {
          "base_uri": "https://localhost:8080/"
        },
        "id": "heCtBUNFhjoE",
        "outputId": "c4229deb-e909-46f3-cc02-e1a5dcae1655"
      },
      "source": [
        "!pip install feature_engine"
      ],
      "id": "heCtBUNFhjoE",
      "execution_count": null,
      "outputs": [
        {
          "output_type": "stream",
          "name": "stdout",
          "text": [
            "Requirement already satisfied: feature_engine in /usr/local/lib/python3.7/dist-packages (1.1.2)\n",
            "Requirement already satisfied: scipy>=1.4.1 in /usr/local/lib/python3.7/dist-packages (from feature_engine) (1.4.1)\n",
            "Requirement already satisfied: statsmodels>=0.11.1 in /usr/local/lib/python3.7/dist-packages (from feature_engine) (0.13.1)\n",
            "Requirement already satisfied: numpy>=1.18.2 in /usr/local/lib/python3.7/dist-packages (from feature_engine) (1.19.5)\n",
            "Requirement already satisfied: scikit-learn>=0.22.2 in /usr/local/lib/python3.7/dist-packages (from feature_engine) (1.0.1)\n",
            "Requirement already satisfied: pandas>=1.0.3 in /usr/local/lib/python3.7/dist-packages (from feature_engine) (1.1.5)\n",
            "Requirement already satisfied: python-dateutil>=2.7.3 in /usr/local/lib/python3.7/dist-packages (from pandas>=1.0.3->feature_engine) (2.8.2)\n",
            "Requirement already satisfied: pytz>=2017.2 in /usr/local/lib/python3.7/dist-packages (from pandas>=1.0.3->feature_engine) (2018.9)\n",
            "Requirement already satisfied: six>=1.5 in /usr/local/lib/python3.7/dist-packages (from python-dateutil>=2.7.3->pandas>=1.0.3->feature_engine) (1.15.0)\n",
            "Requirement already satisfied: threadpoolctl>=2.0.0 in /usr/local/lib/python3.7/dist-packages (from scikit-learn>=0.22.2->feature_engine) (3.0.0)\n",
            "Requirement already satisfied: joblib>=0.11 in /usr/local/lib/python3.7/dist-packages (from scikit-learn>=0.22.2->feature_engine) (1.1.0)\n",
            "Requirement already satisfied: patsy>=0.5.2 in /usr/local/lib/python3.7/dist-packages (from statsmodels>=0.11.1->feature_engine) (0.5.2)\n"
          ]
        }
      ]
    },
    {
      "cell_type": "code",
      "metadata": {
        "id": "12a26b6b"
      },
      "source": [
        "# import library pandas\n",
        "\n",
        "import pandas as pd\n",
        "\n",
        "# Import library scipy\n",
        "\n",
        "import scipy\n",
        "\n",
        "# Import library winsorize dari scipy\n",
        "\n",
        "from scipy.stats.mstats import winsorize\n",
        "\n",
        "# Import library trima dari scipy\n",
        "\n",
        "from scipy.stats.mstats import trima\n",
        "\n",
        "# Import library RandomSampleImputer dari feature engine imputation\n",
        "\n",
        "from feature_engine.imputation import RandomSampleImputer\n",
        "\n",
        "# import library StandardScaler dari sklearn\n",
        "\n",
        "from sklearn.preprocessing import StandardScaler"
      ],
      "id": "12a26b6b",
      "execution_count": null,
      "outputs": []
    },
    {
      "cell_type": "markdown",
      "metadata": {
        "id": "910ae971"
      },
      "source": [
        "# Latihan (2)\n",
        "\n",
        "### Menghitung nilai null pada dataset :\n",
        "\n",
        "    1. Load dataset Iris_Unclean\n",
        "    2. Tampilkan dataset\n",
        "    3. Hitung jumlah nilai null pada dataset"
      ],
      "id": "910ae971"
    },
    {
      "cell_type": "code",
      "metadata": {
        "colab": {
          "base_uri": "https://localhost:8080/"
        },
        "id": "ugF6Vg_2hv6A",
        "outputId": "43dc58b5-d41b-4595-d205-f5747ffc1018"
      },
      "source": [
        "from google.colab import drive\n",
        "drive.mount('/content/drive')"
      ],
      "id": "ugF6Vg_2hv6A",
      "execution_count": null,
      "outputs": [
        {
          "output_type": "stream",
          "name": "stdout",
          "text": [
            "Drive already mounted at /content/drive; to attempt to forcibly remount, call drive.mount(\"/content/drive\", force_remount=True).\n"
          ]
        }
      ]
    },
    {
      "cell_type": "code",
      "metadata": {
        "id": "8e556b05"
      },
      "source": [
        "# load dataset Iris_Unclean\n",
        "\n",
        "df_iris = pd.read_csv(\"/content/drive/MyDrive/Agung Pambudi - Associate Data Scientist/Iris_unclean.csv\")"
      ],
      "id": "8e556b05",
      "execution_count": null,
      "outputs": []
    },
    {
      "cell_type": "code",
      "metadata": {
        "colab": {
          "base_uri": "https://localhost:8080/",
          "height": 419
        },
        "id": "85627815",
        "outputId": "5b76d49c-4b63-4cbc-dd69-919574d6c688"
      },
      "source": [
        "# tampilkan dataset\n",
        "\n",
        "df_iris"
      ],
      "id": "85627815",
      "execution_count": null,
      "outputs": [
        {
          "output_type": "execute_result",
          "data": {
            "text/html": [
              "<div>\n",
              "<style scoped>\n",
              "    .dataframe tbody tr th:only-of-type {\n",
              "        vertical-align: middle;\n",
              "    }\n",
              "\n",
              "    .dataframe tbody tr th {\n",
              "        vertical-align: top;\n",
              "    }\n",
              "\n",
              "    .dataframe thead th {\n",
              "        text-align: right;\n",
              "    }\n",
              "</style>\n",
              "<table border=\"1\" class=\"dataframe\">\n",
              "  <thead>\n",
              "    <tr style=\"text-align: right;\">\n",
              "      <th></th>\n",
              "      <th>SepalLengthCm</th>\n",
              "      <th>SepalWidthCm</th>\n",
              "      <th>PetalLengthCm</th>\n",
              "      <th>PetalWidthCm</th>\n",
              "      <th>Species</th>\n",
              "    </tr>\n",
              "  </thead>\n",
              "  <tbody>\n",
              "    <tr>\n",
              "      <th>0</th>\n",
              "      <td>NaN</td>\n",
              "      <td>3.5</td>\n",
              "      <td>1.4</td>\n",
              "      <td>0.2</td>\n",
              "      <td>Iris-setosa</td>\n",
              "    </tr>\n",
              "    <tr>\n",
              "      <th>1</th>\n",
              "      <td>4.9</td>\n",
              "      <td>2000.0</td>\n",
              "      <td>1.4</td>\n",
              "      <td>0.2</td>\n",
              "      <td>Iris-setosa</td>\n",
              "    </tr>\n",
              "    <tr>\n",
              "      <th>2</th>\n",
              "      <td>4.7</td>\n",
              "      <td>3.2</td>\n",
              "      <td>-1.3</td>\n",
              "      <td>0.2</td>\n",
              "      <td>Iris-setosa</td>\n",
              "    </tr>\n",
              "    <tr>\n",
              "      <th>3</th>\n",
              "      <td>4.6</td>\n",
              "      <td>3.1</td>\n",
              "      <td>1.5</td>\n",
              "      <td>0.2</td>\n",
              "      <td>Iris-setosa</td>\n",
              "    </tr>\n",
              "    <tr>\n",
              "      <th>4</th>\n",
              "      <td>5.0</td>\n",
              "      <td>3.6</td>\n",
              "      <td>1.4</td>\n",
              "      <td>0.2</td>\n",
              "      <td>Iris-setosa</td>\n",
              "    </tr>\n",
              "    <tr>\n",
              "      <th>...</th>\n",
              "      <td>...</td>\n",
              "      <td>...</td>\n",
              "      <td>...</td>\n",
              "      <td>...</td>\n",
              "      <td>...</td>\n",
              "    </tr>\n",
              "    <tr>\n",
              "      <th>145</th>\n",
              "      <td>6.7</td>\n",
              "      <td>3.0</td>\n",
              "      <td>5.2</td>\n",
              "      <td>2.3</td>\n",
              "      <td>Iris-virginica</td>\n",
              "    </tr>\n",
              "    <tr>\n",
              "      <th>146</th>\n",
              "      <td>6.3</td>\n",
              "      <td>2.5</td>\n",
              "      <td>5.0</td>\n",
              "      <td>1.9</td>\n",
              "      <td>Iris-virginica</td>\n",
              "    </tr>\n",
              "    <tr>\n",
              "      <th>147</th>\n",
              "      <td>6.5</td>\n",
              "      <td>3.0</td>\n",
              "      <td>5.2</td>\n",
              "      <td>2.0</td>\n",
              "      <td>Iris-virginica</td>\n",
              "    </tr>\n",
              "    <tr>\n",
              "      <th>148</th>\n",
              "      <td>6.2</td>\n",
              "      <td>3.4</td>\n",
              "      <td>5.4</td>\n",
              "      <td>2.3</td>\n",
              "      <td>Iris-virginica</td>\n",
              "    </tr>\n",
              "    <tr>\n",
              "      <th>149</th>\n",
              "      <td>5.9</td>\n",
              "      <td>3.0</td>\n",
              "      <td>5.1</td>\n",
              "      <td>1.8</td>\n",
              "      <td>Iris-virginica</td>\n",
              "    </tr>\n",
              "  </tbody>\n",
              "</table>\n",
              "<p>150 rows × 5 columns</p>\n",
              "</div>"
            ],
            "text/plain": [
              "     SepalLengthCm  SepalWidthCm  PetalLengthCm  PetalWidthCm         Species\n",
              "0              NaN           3.5            1.4           0.2     Iris-setosa\n",
              "1              4.9        2000.0            1.4           0.2     Iris-setosa\n",
              "2              4.7           3.2           -1.3           0.2     Iris-setosa\n",
              "3              4.6           3.1            1.5           0.2     Iris-setosa\n",
              "4              5.0           3.6            1.4           0.2     Iris-setosa\n",
              "..             ...           ...            ...           ...             ...\n",
              "145            6.7           3.0            5.2           2.3  Iris-virginica\n",
              "146            6.3           2.5            5.0           1.9  Iris-virginica\n",
              "147            6.5           3.0            5.2           2.0  Iris-virginica\n",
              "148            6.2           3.4            5.4           2.3  Iris-virginica\n",
              "149            5.9           3.0            5.1           1.8  Iris-virginica\n",
              "\n",
              "[150 rows x 5 columns]"
            ]
          },
          "metadata": {},
          "execution_count": 61
        }
      ]
    },
    {
      "cell_type": "code",
      "metadata": {
        "colab": {
          "base_uri": "https://localhost:8080/"
        },
        "id": "f9f84ae7",
        "outputId": "52cc1341-b126-4528-b787-83bb04c0606c"
      },
      "source": [
        "# hitung jumlah nilai null pada dataset\n",
        "\n",
        "df_iris.isnull().sum()"
      ],
      "id": "f9f84ae7",
      "execution_count": null,
      "outputs": [
        {
          "output_type": "execute_result",
          "data": {
            "text/plain": [
              "SepalLengthCm    2\n",
              "SepalWidthCm     0\n",
              "PetalLengthCm    0\n",
              "PetalWidthCm     0\n",
              "Species          0\n",
              "dtype: int64"
            ]
          },
          "metadata": {},
          "execution_count": 62
        }
      ]
    },
    {
      "cell_type": "markdown",
      "metadata": {
        "id": "4fb76245"
      },
      "source": [
        "# Latihan (3)\n",
        "\n",
        "### Melakukan handle missing value dengan Imputasi Mean:\n",
        "\n",
        "     1. Load dataset Iris_Unclean\n",
        "     2. Ambil 10 data teratas \"SepalLengthCm\", kemudian tampilkan\n",
        "     3. Mengganti missing value Imputasi dengan mean, kemudian masukkan ke variable\n",
        "     4. Tampilkan 10 data teratas \"SepalLengthCm\" setelah handle missing value dengan Imputasi mean()"
      ],
      "id": "4fb76245"
    },
    {
      "cell_type": "code",
      "metadata": {
        "id": "d81cbac5"
      },
      "source": [
        "# load dataset Iris_Unclean\n",
        "\n",
        "df = pd.read_csv(\"/content/drive/MyDrive/Agung Pambudi - Associate Data Scientist/Iris_unclean.csv\")"
      ],
      "id": "d81cbac5",
      "execution_count": null,
      "outputs": []
    },
    {
      "cell_type": "code",
      "metadata": {
        "colab": {
          "base_uri": "https://localhost:8080/"
        },
        "id": "14a9b64e",
        "outputId": "4cad64ee-ab92-47f7-aca5-80a9c0993136"
      },
      "source": [
        "# ambil 10 data teratas SepalLengthCm, kemudian tampilkan\n",
        "\n",
        "df = df['SepalLengthCm'].head(10)\n",
        "df"
      ],
      "id": "14a9b64e",
      "execution_count": null,
      "outputs": [
        {
          "output_type": "execute_result",
          "data": {
            "text/plain": [
              "0    NaN\n",
              "1    4.9\n",
              "2    4.7\n",
              "3    4.6\n",
              "4    5.0\n",
              "5    5.4\n",
              "6    NaN\n",
              "7    5.0\n",
              "8    4.4\n",
              "9    4.9\n",
              "Name: SepalLengthCm, dtype: float64"
            ]
          },
          "metadata": {},
          "execution_count": 64
        }
      ]
    },
    {
      "cell_type": "code",
      "metadata": {
        "id": "7db11cee"
      },
      "source": [
        "# mengganti missing value dengan mean(), kemudian masukkan ke variabel\n",
        "\n",
        "df = df.fillna(df.mean())"
      ],
      "id": "7db11cee",
      "execution_count": null,
      "outputs": []
    },
    {
      "cell_type": "code",
      "metadata": {
        "id": "f03740f8",
        "colab": {
          "base_uri": "https://localhost:8080/"
        },
        "outputId": "3524166e-ab27-4138-882f-63c8362c6687"
      },
      "source": [
        "# tampilkan 10 data teratas SepalLengthCm setelah handle missing value dengan imputasi mean\n",
        "\n",
        "df.head(10)"
      ],
      "id": "f03740f8",
      "execution_count": null,
      "outputs": [
        {
          "output_type": "execute_result",
          "data": {
            "text/plain": [
              "0    4.8625\n",
              "1    4.9000\n",
              "2    4.7000\n",
              "3    4.6000\n",
              "4    5.0000\n",
              "5    5.4000\n",
              "6    4.8625\n",
              "7    5.0000\n",
              "8    4.4000\n",
              "9    4.9000\n",
              "Name: SepalLengthCm, dtype: float64"
            ]
          },
          "metadata": {},
          "execution_count": 66
        }
      ]
    },
    {
      "cell_type": "markdown",
      "metadata": {
        "id": "ffc520e0"
      },
      "source": [
        "# Latihan (4)\n",
        "\n",
        "### Melakukan handle missing value dengan nilai suka-suka (Arbitrary):\n",
        "\n",
        "     1. Load dataset Iris_Unclean\n",
        "     2. Ambil 10 data teratas \"SepalLengthCm\", kemudian tampilkan\n",
        "     3. Mengganti missing value dengan imputasi nilai suka-suka (Arbitrary), kemudian masukkan ke variable\n",
        "     4. Tampilkan 10 data teratas \"SepalLengthCm\" setelah handle missing value dengan nilai suka-suka "
      ],
      "id": "ffc520e0"
    },
    {
      "cell_type": "code",
      "metadata": {
        "id": "f6d89b20"
      },
      "source": [
        "# load dataset Iris_Unclean\n",
        "\n",
        "df = pd.read_csv(\"/content/drive/MyDrive/Agung Pambudi - Associate Data Scientist/Iris_unclean.csv\")"
      ],
      "id": "f6d89b20",
      "execution_count": null,
      "outputs": []
    },
    {
      "cell_type": "code",
      "metadata": {
        "colab": {
          "base_uri": "https://localhost:8080/"
        },
        "id": "41d6177f",
        "outputId": "4c44d9f8-e314-4d14-e819-43472e8f4aac"
      },
      "source": [
        "# ambil 10 data teratas SepalLengthCm, kemudian tampilkan\n",
        "\n",
        "df = df['SepalLengthCm'].head(10)\n",
        "df"
      ],
      "id": "41d6177f",
      "execution_count": null,
      "outputs": [
        {
          "output_type": "execute_result",
          "data": {
            "text/plain": [
              "0    NaN\n",
              "1    4.9\n",
              "2    4.7\n",
              "3    4.6\n",
              "4    5.0\n",
              "5    5.4\n",
              "6    NaN\n",
              "7    5.0\n",
              "8    4.4\n",
              "9    4.9\n",
              "Name: SepalLengthCm, dtype: float64"
            ]
          },
          "metadata": {},
          "execution_count": 68
        }
      ]
    },
    {
      "cell_type": "code",
      "metadata": {
        "id": "6304b7f6"
      },
      "source": [
        "# melakukan imputasi nilai suka-suka (Arbitrary), masukkan ke dalam variabel\n",
        "\n",
        "df = df.fillna(99)"
      ],
      "id": "6304b7f6",
      "execution_count": null,
      "outputs": []
    },
    {
      "cell_type": "code",
      "metadata": {
        "id": "998b1ef5",
        "colab": {
          "base_uri": "https://localhost:8080/"
        },
        "outputId": "a35d2d67-b998-406b-c7de-95cff8c79857"
      },
      "source": [
        "# tampilkan 10 data teratas SepalLengthCm setelah handle missing value dengan nilai suka-suka (arbitary)\n",
        "\n",
        "df.head(10)"
      ],
      "id": "998b1ef5",
      "execution_count": null,
      "outputs": [
        {
          "output_type": "execute_result",
          "data": {
            "text/plain": [
              "0    99.0\n",
              "1     4.9\n",
              "2     4.7\n",
              "3     4.6\n",
              "4     5.0\n",
              "5     5.4\n",
              "6    99.0\n",
              "7     5.0\n",
              "8     4.4\n",
              "9     4.9\n",
              "Name: SepalLengthCm, dtype: float64"
            ]
          },
          "metadata": {},
          "execution_count": 70
        }
      ]
    },
    {
      "cell_type": "markdown",
      "metadata": {
        "id": "218f5b1d"
      },
      "source": [
        "# Latihan (5)\n",
        "\n",
        "### Melakukan handle missing value dengan frequent category / modus:\n",
        "\n",
        "     1. Load dataset Iris_Unclean\n",
        "     2. Ambil 10 data teratas \"SepalLengthCm\", kemudian tampilkan\n",
        "     3. Mengganti missing value dengan frequent category / modus\n",
        "     4. Tampilkan hasil imputasi \"SepalLengthCm\" setelah handle dengan frequent category / modus"
      ],
      "id": "218f5b1d"
    },
    {
      "cell_type": "code",
      "metadata": {
        "id": "5f2c9c3d"
      },
      "source": [
        "# load dataset Iris_Unclean\n",
        "\n",
        "data = pd.read_csv(\"/content/drive/MyDrive/Agung Pambudi - Associate Data Scientist/Iris_unclean.csv\")"
      ],
      "id": "5f2c9c3d",
      "execution_count": null,
      "outputs": []
    },
    {
      "cell_type": "code",
      "metadata": {
        "colab": {
          "base_uri": "https://localhost:8080/",
          "height": 359
        },
        "id": "87430ef7",
        "outputId": "cf217c44-d191-4902-f720-9a383348750e"
      },
      "source": [
        "# tampilkan 10 data teratas kolom SepalLengthCm\n",
        "\n",
        "data = data['SepalLengthCm'].head(10)\n",
        "data = pd.DataFrame(data)\n",
        "data"
      ],
      "id": "87430ef7",
      "execution_count": null,
      "outputs": [
        {
          "output_type": "execute_result",
          "data": {
            "text/html": [
              "<div>\n",
              "<style scoped>\n",
              "    .dataframe tbody tr th:only-of-type {\n",
              "        vertical-align: middle;\n",
              "    }\n",
              "\n",
              "    .dataframe tbody tr th {\n",
              "        vertical-align: top;\n",
              "    }\n",
              "\n",
              "    .dataframe thead th {\n",
              "        text-align: right;\n",
              "    }\n",
              "</style>\n",
              "<table border=\"1\" class=\"dataframe\">\n",
              "  <thead>\n",
              "    <tr style=\"text-align: right;\">\n",
              "      <th></th>\n",
              "      <th>SepalLengthCm</th>\n",
              "    </tr>\n",
              "  </thead>\n",
              "  <tbody>\n",
              "    <tr>\n",
              "      <th>0</th>\n",
              "      <td>NaN</td>\n",
              "    </tr>\n",
              "    <tr>\n",
              "      <th>1</th>\n",
              "      <td>4.9</td>\n",
              "    </tr>\n",
              "    <tr>\n",
              "      <th>2</th>\n",
              "      <td>4.7</td>\n",
              "    </tr>\n",
              "    <tr>\n",
              "      <th>3</th>\n",
              "      <td>4.6</td>\n",
              "    </tr>\n",
              "    <tr>\n",
              "      <th>4</th>\n",
              "      <td>5.0</td>\n",
              "    </tr>\n",
              "    <tr>\n",
              "      <th>5</th>\n",
              "      <td>5.4</td>\n",
              "    </tr>\n",
              "    <tr>\n",
              "      <th>6</th>\n",
              "      <td>NaN</td>\n",
              "    </tr>\n",
              "    <tr>\n",
              "      <th>7</th>\n",
              "      <td>5.0</td>\n",
              "    </tr>\n",
              "    <tr>\n",
              "      <th>8</th>\n",
              "      <td>4.4</td>\n",
              "    </tr>\n",
              "    <tr>\n",
              "      <th>9</th>\n",
              "      <td>4.9</td>\n",
              "    </tr>\n",
              "  </tbody>\n",
              "</table>\n",
              "</div>"
            ],
            "text/plain": [
              "   SepalLengthCm\n",
              "0            NaN\n",
              "1            4.9\n",
              "2            4.7\n",
              "3            4.6\n",
              "4            5.0\n",
              "5            5.4\n",
              "6            NaN\n",
              "7            5.0\n",
              "8            4.4\n",
              "9            4.9"
            ]
          },
          "metadata": {},
          "execution_count": 72
        }
      ]
    },
    {
      "cell_type": "code",
      "metadata": {
        "id": "1adaa0e9"
      },
      "source": [
        "# Import SimpleImputer dari sklearn.impute\n",
        "\n",
        "from sklearn.impute import SimpleImputer\n",
        "\n",
        "# Mengatasi missing value dengan frequent category / modus\n",
        "\n",
        "imp = SimpleImputer(strategy='most_frequent')"
      ],
      "id": "1adaa0e9",
      "execution_count": null,
      "outputs": []
    },
    {
      "cell_type": "code",
      "metadata": {
        "id": "b9fd73b1",
        "colab": {
          "base_uri": "https://localhost:8080/"
        },
        "outputId": "f16c3a7b-6511-4048-969f-195bad998830"
      },
      "source": [
        "# Tampilkan hasil imputasi \"SepalLengthCm\"\n",
        "\n",
        "imp.fit_transform(data[['SepalLengthCm']])"
      ],
      "id": "b9fd73b1",
      "execution_count": null,
      "outputs": [
        {
          "output_type": "execute_result",
          "data": {
            "text/plain": [
              "array([[4.9],\n",
              "       [4.9],\n",
              "       [4.7],\n",
              "       [4.6],\n",
              "       [5. ],\n",
              "       [5.4],\n",
              "       [4.9],\n",
              "       [5. ],\n",
              "       [4.4],\n",
              "       [4.9]])"
            ]
          },
          "metadata": {},
          "execution_count": 74
        }
      ]
    },
    {
      "cell_type": "markdown",
      "metadata": {
        "id": "aa135aae"
      },
      "source": [
        "# Latihan (6)\n",
        "\n",
        "### Melakukan handle missing value dengan Imputasi Random Sample:\n",
        "\n",
        "     1. Load dataset Iris_Unclean\n",
        "     2. Tampilkan 10 data teratas\n",
        "     3. Membuat imputer random sample dengan random state = 5\n",
        "     4. Cocokan imputer ke data\n",
        "     5. Ubah data dengan imputer masukkan ke dalam variable\n",
        "     6. Tampilkan hasil imputasi data \"SepalLengthCm\""
      ],
      "id": "aa135aae"
    },
    {
      "cell_type": "code",
      "metadata": {
        "id": "05ea0bcf"
      },
      "source": [
        "# load dataset Iris_Unclean\n",
        "\n",
        "data = pd.read_csv(\"/content/drive/MyDrive/Agung Pambudi - Associate Data Scientist/Iris_unclean.csv\")"
      ],
      "id": "05ea0bcf",
      "execution_count": null,
      "outputs": []
    },
    {
      "cell_type": "code",
      "metadata": {
        "id": "8d70788e",
        "colab": {
          "base_uri": "https://localhost:8080/",
          "height": 359
        },
        "outputId": "6c1473c0-bd2f-48ed-cace-9954ae021cad"
      },
      "source": [
        "# tampilkan 10 data teratas SepalLengthCm\n",
        "\n",
        "data = data['SepalLengthCm'].head(10)\n",
        "data = pd.DataFrame(data)\n",
        "data"
      ],
      "id": "8d70788e",
      "execution_count": null,
      "outputs": [
        {
          "output_type": "execute_result",
          "data": {
            "text/html": [
              "<div>\n",
              "<style scoped>\n",
              "    .dataframe tbody tr th:only-of-type {\n",
              "        vertical-align: middle;\n",
              "    }\n",
              "\n",
              "    .dataframe tbody tr th {\n",
              "        vertical-align: top;\n",
              "    }\n",
              "\n",
              "    .dataframe thead th {\n",
              "        text-align: right;\n",
              "    }\n",
              "</style>\n",
              "<table border=\"1\" class=\"dataframe\">\n",
              "  <thead>\n",
              "    <tr style=\"text-align: right;\">\n",
              "      <th></th>\n",
              "      <th>SepalLengthCm</th>\n",
              "    </tr>\n",
              "  </thead>\n",
              "  <tbody>\n",
              "    <tr>\n",
              "      <th>0</th>\n",
              "      <td>NaN</td>\n",
              "    </tr>\n",
              "    <tr>\n",
              "      <th>1</th>\n",
              "      <td>4.9</td>\n",
              "    </tr>\n",
              "    <tr>\n",
              "      <th>2</th>\n",
              "      <td>4.7</td>\n",
              "    </tr>\n",
              "    <tr>\n",
              "      <th>3</th>\n",
              "      <td>4.6</td>\n",
              "    </tr>\n",
              "    <tr>\n",
              "      <th>4</th>\n",
              "      <td>5.0</td>\n",
              "    </tr>\n",
              "    <tr>\n",
              "      <th>5</th>\n",
              "      <td>5.4</td>\n",
              "    </tr>\n",
              "    <tr>\n",
              "      <th>6</th>\n",
              "      <td>NaN</td>\n",
              "    </tr>\n",
              "    <tr>\n",
              "      <th>7</th>\n",
              "      <td>5.0</td>\n",
              "    </tr>\n",
              "    <tr>\n",
              "      <th>8</th>\n",
              "      <td>4.4</td>\n",
              "    </tr>\n",
              "    <tr>\n",
              "      <th>9</th>\n",
              "      <td>4.9</td>\n",
              "    </tr>\n",
              "  </tbody>\n",
              "</table>\n",
              "</div>"
            ],
            "text/plain": [
              "   SepalLengthCm\n",
              "0            NaN\n",
              "1            4.9\n",
              "2            4.7\n",
              "3            4.6\n",
              "4            5.0\n",
              "5            5.4\n",
              "6            NaN\n",
              "7            5.0\n",
              "8            4.4\n",
              "9            4.9"
            ]
          },
          "metadata": {},
          "execution_count": 76
        }
      ]
    },
    {
      "cell_type": "code",
      "metadata": {
        "id": "78cd2a4a"
      },
      "source": [
        "# Membuat imputer random sample dengan random state = 5\n",
        "\n",
        "imputer = RandomSampleImputer(random_state = 5)\n",
        "\n",
        "# Cocokan imputer ke data\n",
        "\n",
        "imputer.fit(data)\n",
        "\n",
        "# Ubah data dengan imputer masukkan ke dalam variable\n",
        "\n",
        "test_t = imputer.transform(data)"
      ],
      "id": "78cd2a4a",
      "execution_count": null,
      "outputs": []
    },
    {
      "cell_type": "code",
      "metadata": {
        "id": "c391d5ef",
        "colab": {
          "base_uri": "https://localhost:8080/",
          "height": 359
        },
        "outputId": "6a99581b-9f31-432a-a742-cfcf111c5144"
      },
      "source": [
        "# Tampilkan data hasil imputasi data \"SepalLengthCm\"\n",
        "\n",
        "test_t"
      ],
      "id": "c391d5ef",
      "execution_count": null,
      "outputs": [
        {
          "output_type": "execute_result",
          "data": {
            "text/html": [
              "<div>\n",
              "<style scoped>\n",
              "    .dataframe tbody tr th:only-of-type {\n",
              "        vertical-align: middle;\n",
              "    }\n",
              "\n",
              "    .dataframe tbody tr th {\n",
              "        vertical-align: top;\n",
              "    }\n",
              "\n",
              "    .dataframe thead th {\n",
              "        text-align: right;\n",
              "    }\n",
              "</style>\n",
              "<table border=\"1\" class=\"dataframe\">\n",
              "  <thead>\n",
              "    <tr style=\"text-align: right;\">\n",
              "      <th></th>\n",
              "      <th>SepalLengthCm</th>\n",
              "    </tr>\n",
              "  </thead>\n",
              "  <tbody>\n",
              "    <tr>\n",
              "      <th>0</th>\n",
              "      <td>5.0</td>\n",
              "    </tr>\n",
              "    <tr>\n",
              "      <th>1</th>\n",
              "      <td>4.9</td>\n",
              "    </tr>\n",
              "    <tr>\n",
              "      <th>2</th>\n",
              "      <td>4.7</td>\n",
              "    </tr>\n",
              "    <tr>\n",
              "      <th>3</th>\n",
              "      <td>4.6</td>\n",
              "    </tr>\n",
              "    <tr>\n",
              "      <th>4</th>\n",
              "      <td>5.0</td>\n",
              "    </tr>\n",
              "    <tr>\n",
              "      <th>5</th>\n",
              "      <td>5.4</td>\n",
              "    </tr>\n",
              "    <tr>\n",
              "      <th>6</th>\n",
              "      <td>4.4</td>\n",
              "    </tr>\n",
              "    <tr>\n",
              "      <th>7</th>\n",
              "      <td>5.0</td>\n",
              "    </tr>\n",
              "    <tr>\n",
              "      <th>8</th>\n",
              "      <td>4.4</td>\n",
              "    </tr>\n",
              "    <tr>\n",
              "      <th>9</th>\n",
              "      <td>4.9</td>\n",
              "    </tr>\n",
              "  </tbody>\n",
              "</table>\n",
              "</div>"
            ],
            "text/plain": [
              "   SepalLengthCm\n",
              "0            5.0\n",
              "1            4.9\n",
              "2            4.7\n",
              "3            4.6\n",
              "4            5.0\n",
              "5            5.4\n",
              "6            4.4\n",
              "7            5.0\n",
              "8            4.4\n",
              "9            4.9"
            ]
          },
          "metadata": {},
          "execution_count": 78
        }
      ]
    },
    {
      "cell_type": "markdown",
      "metadata": {
        "id": "b183faa8"
      },
      "source": [
        "# Latihan (7)\n",
        "\n",
        "### Melakukan Winsorizing\n",
        "\n",
        "    1. Import library winsorize dari scipy\n",
        "    2. Load data Iris_AfterClean\n",
        "    3. Ambil 10 data teratas \"SepalLengthCm\", kemudian masukkan ke dalam variabel datan tampilkan\n",
        "    4. Winsorize data dengan batas nilai terendah 10% dan batas nilai tinggi 20%\n",
        "    5. Tampilkan hasil winsorize"
      ],
      "id": "b183faa8"
    },
    {
      "cell_type": "code",
      "metadata": {
        "id": "1136245b"
      },
      "source": [
        "# Import library scipy\n",
        "\n",
        "import scipy"
      ],
      "id": "1136245b",
      "execution_count": null,
      "outputs": []
    },
    {
      "cell_type": "code",
      "metadata": {
        "colab": {
          "base_uri": "https://localhost:8080/"
        },
        "id": "8746ff71",
        "outputId": "2aa727cc-f38c-4e59-bac7-3fc09ca1e84f"
      },
      "source": [
        "# Load data Iris_AfterClean\n",
        "data = pd.read_csv(\"/content/drive/MyDrive/Agung Pambudi - Associate Data Scientist/Iris_AfterClean.csv\")\n",
        "\n",
        "# Ambil 10 data teratas \"SepalLengthCm\", kemudian masukkan ke dalam variabel datan tampilkan\n",
        "a = data['SepalLengthCm'].head(10)\n",
        "a"
      ],
      "id": "8746ff71",
      "execution_count": null,
      "outputs": [
        {
          "output_type": "execute_result",
          "data": {
            "text/plain": [
              "0    4.6\n",
              "1    5.0\n",
              "2    5.4\n",
              "3    4.9\n",
              "4    5.4\n",
              "5    4.8\n",
              "6    4.8\n",
              "7    4.3\n",
              "8    5.8\n",
              "9    5.4\n",
              "Name: SepalLengthCm, dtype: float64"
            ]
          },
          "metadata": {},
          "execution_count": 80
        }
      ]
    },
    {
      "cell_type": "code",
      "metadata": {
        "id": "9f91f045",
        "colab": {
          "base_uri": "https://localhost:8080/"
        },
        "outputId": "56b52108-f72f-42cb-e28a-1b01d70c5837"
      },
      "source": [
        "# Winsorize data dengan batas nilai terendah 10% dan batas nilai tinggi 20%\n",
        "\n",
        "wins = winsorize(a, limits=[0.1, 0.2])\n",
        "\n",
        "# Tampilkan hasil winsorize\n",
        "print(wins)"
      ],
      "id": "9f91f045",
      "execution_count": null,
      "outputs": [
        {
          "output_type": "stream",
          "name": "stdout",
          "text": [
            "[4.6 5.  5.4 4.9 5.4 4.8 4.8 4.6 5.4 5.4]\n"
          ]
        }
      ]
    },
    {
      "cell_type": "markdown",
      "metadata": {
        "id": "3ddad90b"
      },
      "source": [
        "# Latihan (8)\n",
        "\n",
        "### Melakukan Trimming\n",
        "\n",
        "    1. Import library trima dari scopy\n",
        "    2. Load data Iris_AfterClean\n",
        "    3. Ambil 10 data teratas \"SepalLengthCm\", kemudian masukkan ke dalam variabel datan tampilkan\n",
        "    4. Trimming data dengan batas nilai terendah 2 dan batas nilai tinggi 5\n",
        "    5. Tampilkan hasil trimming"
      ],
      "id": "3ddad90b"
    },
    {
      "cell_type": "code",
      "metadata": {
        "id": "066d7abf"
      },
      "source": [
        "# Import library trima dari scopy\n",
        "\n",
        "from scipy.stats.mstats import trima"
      ],
      "id": "066d7abf",
      "execution_count": null,
      "outputs": []
    },
    {
      "cell_type": "code",
      "metadata": {
        "colab": {
          "base_uri": "https://localhost:8080/"
        },
        "id": "9ab186a5",
        "outputId": "c63b4802-0508-48b6-b689-e094d9bc75df"
      },
      "source": [
        "# Load data Iris_AfterClean\n",
        "data = pd.read_csv(\"/content/drive/MyDrive/Agung Pambudi - Associate Data Scientist/Iris_AfterClean.csv\")\n",
        "\n",
        "# Ambil 10 data teratas \"SepalLengthCm\", kemudian masukkan ke dalam variabel datan tampilkan\n",
        "a = data['SepalLengthCm'].head(10)\n",
        "a"
      ],
      "id": "9ab186a5",
      "execution_count": null,
      "outputs": [
        {
          "output_type": "execute_result",
          "data": {
            "text/plain": [
              "0    4.6\n",
              "1    5.0\n",
              "2    5.4\n",
              "3    4.9\n",
              "4    5.4\n",
              "5    4.8\n",
              "6    4.8\n",
              "7    4.3\n",
              "8    5.8\n",
              "9    5.4\n",
              "Name: SepalLengthCm, dtype: float64"
            ]
          },
          "metadata": {},
          "execution_count": 83
        }
      ]
    },
    {
      "cell_type": "code",
      "metadata": {
        "id": "d0f8a511",
        "colab": {
          "base_uri": "https://localhost:8080/"
        },
        "outputId": "b2596533-29e9-47c2-a3f1-7e1c519e1dca"
      },
      "source": [
        "# Trimming data dengan batas nilai terendah 2 dan batas nilai tinggi 5\n",
        "\n",
        "trims = trima(a, limits=(2,5))\n",
        "\n",
        "# Tampilkan hasil trimming\n",
        "\n",
        "print(trims)"
      ],
      "id": "d0f8a511",
      "execution_count": null,
      "outputs": [
        {
          "output_type": "stream",
          "name": "stdout",
          "text": [
            "[4.6 5.0 -- 4.9 -- 4.8 4.8 4.3 -- --]\n"
          ]
        }
      ]
    },
    {
      "cell_type": "markdown",
      "metadata": {
        "id": "31044298"
      },
      "source": [
        "# Latihan (9)\n",
        "\n",
        "### Melakukan Scaling: Normalisasi\n",
        "\n",
        "    1. Load data Iris_AfterClean \n",
        "    2. Ambil 10 data teratas SepalLengthCm dan SepalWidthCm\n",
        "    3. Menghitung mean data\n",
        "    4. Menghitung max - min pada data\n",
        "    5. Menerapkan transformasi ke data\n",
        "    6. Tampilkan hasil scalling"
      ],
      "id": "31044298"
    },
    {
      "cell_type": "code",
      "metadata": {
        "id": "ab997af5",
        "colab": {
          "base_uri": "https://localhost:8080/",
          "height": 419
        },
        "outputId": "3a386d65-9ac5-432d-fe40-3985d5ebfc68"
      },
      "source": [
        "# Load data Iris_AfterClean \n",
        "\n",
        "data = pd.read_csv(\"/content/drive/MyDrive/Agung Pambudi - Associate Data Scientist/Iris_AfterClean.csv\")\n",
        "\n",
        "# Ambil 10 data teratas SepalLengthCm dan SepalWidthCm\n",
        "\n",
        "data = data[['SepalLengthCm', 'SepalWidthCm']]\n",
        "data"
      ],
      "id": "ab997af5",
      "execution_count": null,
      "outputs": [
        {
          "output_type": "execute_result",
          "data": {
            "text/html": [
              "<div>\n",
              "<style scoped>\n",
              "    .dataframe tbody tr th:only-of-type {\n",
              "        vertical-align: middle;\n",
              "    }\n",
              "\n",
              "    .dataframe tbody tr th {\n",
              "        vertical-align: top;\n",
              "    }\n",
              "\n",
              "    .dataframe thead th {\n",
              "        text-align: right;\n",
              "    }\n",
              "</style>\n",
              "<table border=\"1\" class=\"dataframe\">\n",
              "  <thead>\n",
              "    <tr style=\"text-align: right;\">\n",
              "      <th></th>\n",
              "      <th>SepalLengthCm</th>\n",
              "      <th>SepalWidthCm</th>\n",
              "    </tr>\n",
              "  </thead>\n",
              "  <tbody>\n",
              "    <tr>\n",
              "      <th>0</th>\n",
              "      <td>4.6</td>\n",
              "      <td>3.1</td>\n",
              "    </tr>\n",
              "    <tr>\n",
              "      <th>1</th>\n",
              "      <td>5.0</td>\n",
              "      <td>3.6</td>\n",
              "    </tr>\n",
              "    <tr>\n",
              "      <th>2</th>\n",
              "      <td>5.4</td>\n",
              "      <td>3.9</td>\n",
              "    </tr>\n",
              "    <tr>\n",
              "      <th>3</th>\n",
              "      <td>4.9</td>\n",
              "      <td>3.1</td>\n",
              "    </tr>\n",
              "    <tr>\n",
              "      <th>4</th>\n",
              "      <td>5.4</td>\n",
              "      <td>3.7</td>\n",
              "    </tr>\n",
              "    <tr>\n",
              "      <th>...</th>\n",
              "      <td>...</td>\n",
              "      <td>...</td>\n",
              "    </tr>\n",
              "    <tr>\n",
              "      <th>135</th>\n",
              "      <td>6.7</td>\n",
              "      <td>3.0</td>\n",
              "    </tr>\n",
              "    <tr>\n",
              "      <th>136</th>\n",
              "      <td>6.3</td>\n",
              "      <td>2.5</td>\n",
              "    </tr>\n",
              "    <tr>\n",
              "      <th>137</th>\n",
              "      <td>6.5</td>\n",
              "      <td>3.0</td>\n",
              "    </tr>\n",
              "    <tr>\n",
              "      <th>138</th>\n",
              "      <td>6.2</td>\n",
              "      <td>3.4</td>\n",
              "    </tr>\n",
              "    <tr>\n",
              "      <th>139</th>\n",
              "      <td>5.9</td>\n",
              "      <td>3.0</td>\n",
              "    </tr>\n",
              "  </tbody>\n",
              "</table>\n",
              "<p>140 rows × 2 columns</p>\n",
              "</div>"
            ],
            "text/plain": [
              "     SepalLengthCm  SepalWidthCm\n",
              "0              4.6           3.1\n",
              "1              5.0           3.6\n",
              "2              5.4           3.9\n",
              "3              4.9           3.1\n",
              "4              5.4           3.7\n",
              "..             ...           ...\n",
              "135            6.7           3.0\n",
              "136            6.3           2.5\n",
              "137            6.5           3.0\n",
              "138            6.2           3.4\n",
              "139            5.9           3.0\n",
              "\n",
              "[140 rows x 2 columns]"
            ]
          },
          "metadata": {},
          "execution_count": 85
        }
      ]
    },
    {
      "cell_type": "code",
      "metadata": {
        "id": "57c8d6de"
      },
      "source": [
        "# Menghitung mean\n",
        "means = data.mean(axis = 0)\n",
        "\n",
        "# menghitung max - min\n",
        "max_min = data.max(axis = 0) - data.min(axis = 0)\n",
        "\n",
        "# menerapkan transformasi ke data\n",
        "train_scaled = (data - means) / max_min"
      ],
      "id": "57c8d6de",
      "execution_count": null,
      "outputs": []
    },
    {
      "cell_type": "code",
      "metadata": {
        "id": "9247b11c",
        "colab": {
          "base_uri": "https://localhost:8080/",
          "height": 419
        },
        "outputId": "7995061c-75ae-46bd-b2dd-774290a9fe8d"
      },
      "source": [
        "# Tampilkan hasil scalling\n",
        "\n",
        "train_scaled"
      ],
      "id": "9247b11c",
      "execution_count": null,
      "outputs": [
        {
          "output_type": "execute_result",
          "data": {
            "text/html": [
              "<div>\n",
              "<style scoped>\n",
              "    .dataframe tbody tr th:only-of-type {\n",
              "        vertical-align: middle;\n",
              "    }\n",
              "\n",
              "    .dataframe tbody tr th {\n",
              "        vertical-align: top;\n",
              "    }\n",
              "\n",
              "    .dataframe thead th {\n",
              "        text-align: right;\n",
              "    }\n",
              "</style>\n",
              "<table border=\"1\" class=\"dataframe\">\n",
              "  <thead>\n",
              "    <tr style=\"text-align: right;\">\n",
              "      <th></th>\n",
              "      <th>SepalLengthCm</th>\n",
              "      <th>SepalWidthCm</th>\n",
              "    </tr>\n",
              "  </thead>\n",
              "  <tbody>\n",
              "    <tr>\n",
              "      <th>0</th>\n",
              "      <td>-0.361905</td>\n",
              "      <td>0.039683</td>\n",
              "    </tr>\n",
              "    <tr>\n",
              "      <th>1</th>\n",
              "      <td>-0.250794</td>\n",
              "      <td>0.317460</td>\n",
              "    </tr>\n",
              "    <tr>\n",
              "      <th>2</th>\n",
              "      <td>-0.139683</td>\n",
              "      <td>0.484127</td>\n",
              "    </tr>\n",
              "    <tr>\n",
              "      <th>3</th>\n",
              "      <td>-0.278571</td>\n",
              "      <td>0.039683</td>\n",
              "    </tr>\n",
              "    <tr>\n",
              "      <th>4</th>\n",
              "      <td>-0.139683</td>\n",
              "      <td>0.373016</td>\n",
              "    </tr>\n",
              "    <tr>\n",
              "      <th>...</th>\n",
              "      <td>...</td>\n",
              "      <td>...</td>\n",
              "    </tr>\n",
              "    <tr>\n",
              "      <th>135</th>\n",
              "      <td>0.221429</td>\n",
              "      <td>-0.015873</td>\n",
              "    </tr>\n",
              "    <tr>\n",
              "      <th>136</th>\n",
              "      <td>0.110317</td>\n",
              "      <td>-0.293651</td>\n",
              "    </tr>\n",
              "    <tr>\n",
              "      <th>137</th>\n",
              "      <td>0.165873</td>\n",
              "      <td>-0.015873</td>\n",
              "    </tr>\n",
              "    <tr>\n",
              "      <th>138</th>\n",
              "      <td>0.082540</td>\n",
              "      <td>0.206349</td>\n",
              "    </tr>\n",
              "    <tr>\n",
              "      <th>139</th>\n",
              "      <td>-0.000794</td>\n",
              "      <td>-0.015873</td>\n",
              "    </tr>\n",
              "  </tbody>\n",
              "</table>\n",
              "<p>140 rows × 2 columns</p>\n",
              "</div>"
            ],
            "text/plain": [
              "     SepalLengthCm  SepalWidthCm\n",
              "0        -0.361905      0.039683\n",
              "1        -0.250794      0.317460\n",
              "2        -0.139683      0.484127\n",
              "3        -0.278571      0.039683\n",
              "4        -0.139683      0.373016\n",
              "..             ...           ...\n",
              "135       0.221429     -0.015873\n",
              "136       0.110317     -0.293651\n",
              "137       0.165873     -0.015873\n",
              "138       0.082540      0.206349\n",
              "139      -0.000794     -0.015873\n",
              "\n",
              "[140 rows x 2 columns]"
            ]
          },
          "metadata": {},
          "execution_count": 87
        }
      ]
    },
    {
      "cell_type": "markdown",
      "metadata": {
        "id": "887be660"
      },
      "source": [
        "# Latihan (10)\n",
        "\n",
        "### Melakukan Scaling: Standardisasi\n",
        "\n",
        "    1. Load data Iris_AfterClean \n",
        "    2. Ambil 10 data teratas SepalLengthCm dan SepalWidthCm\n",
        "    2. Import library StandardScaler dari sklearn\n",
        "    3. Membuat objek scaler\n",
        "    4. Sesuaikan scaler dengan data\n",
        "    5. Mengubah data \n",
        "    6. Tampilkan hasil scalling dengan standarisasi"
      ],
      "id": "887be660"
    },
    {
      "cell_type": "code",
      "metadata": {
        "id": "bf973bbb",
        "colab": {
          "base_uri": "https://localhost:8080/",
          "height": 419
        },
        "outputId": "1fc065db-e99e-47d2-ab6b-4c48f01aac9e"
      },
      "source": [
        "# Load data Iris_AfterClean \n",
        "\n",
        "data = pd.read_csv(\"/content/drive/MyDrive/Agung Pambudi - Associate Data Scientist/Iris_AfterClean.csv\")\n",
        "\n",
        "# Ambil 10 data teratas SepalLengthCm dan SepalWidthCm\n",
        "\n",
        "data = data[['SepalLengthCm', 'SepalWidthCm']]\n",
        "data"
      ],
      "id": "bf973bbb",
      "execution_count": null,
      "outputs": [
        {
          "output_type": "execute_result",
          "data": {
            "text/html": [
              "<div>\n",
              "<style scoped>\n",
              "    .dataframe tbody tr th:only-of-type {\n",
              "        vertical-align: middle;\n",
              "    }\n",
              "\n",
              "    .dataframe tbody tr th {\n",
              "        vertical-align: top;\n",
              "    }\n",
              "\n",
              "    .dataframe thead th {\n",
              "        text-align: right;\n",
              "    }\n",
              "</style>\n",
              "<table border=\"1\" class=\"dataframe\">\n",
              "  <thead>\n",
              "    <tr style=\"text-align: right;\">\n",
              "      <th></th>\n",
              "      <th>SepalLengthCm</th>\n",
              "      <th>SepalWidthCm</th>\n",
              "    </tr>\n",
              "  </thead>\n",
              "  <tbody>\n",
              "    <tr>\n",
              "      <th>0</th>\n",
              "      <td>4.6</td>\n",
              "      <td>3.1</td>\n",
              "    </tr>\n",
              "    <tr>\n",
              "      <th>1</th>\n",
              "      <td>5.0</td>\n",
              "      <td>3.6</td>\n",
              "    </tr>\n",
              "    <tr>\n",
              "      <th>2</th>\n",
              "      <td>5.4</td>\n",
              "      <td>3.9</td>\n",
              "    </tr>\n",
              "    <tr>\n",
              "      <th>3</th>\n",
              "      <td>4.9</td>\n",
              "      <td>3.1</td>\n",
              "    </tr>\n",
              "    <tr>\n",
              "      <th>4</th>\n",
              "      <td>5.4</td>\n",
              "      <td>3.7</td>\n",
              "    </tr>\n",
              "    <tr>\n",
              "      <th>...</th>\n",
              "      <td>...</td>\n",
              "      <td>...</td>\n",
              "    </tr>\n",
              "    <tr>\n",
              "      <th>135</th>\n",
              "      <td>6.7</td>\n",
              "      <td>3.0</td>\n",
              "    </tr>\n",
              "    <tr>\n",
              "      <th>136</th>\n",
              "      <td>6.3</td>\n",
              "      <td>2.5</td>\n",
              "    </tr>\n",
              "    <tr>\n",
              "      <th>137</th>\n",
              "      <td>6.5</td>\n",
              "      <td>3.0</td>\n",
              "    </tr>\n",
              "    <tr>\n",
              "      <th>138</th>\n",
              "      <td>6.2</td>\n",
              "      <td>3.4</td>\n",
              "    </tr>\n",
              "    <tr>\n",
              "      <th>139</th>\n",
              "      <td>5.9</td>\n",
              "      <td>3.0</td>\n",
              "    </tr>\n",
              "  </tbody>\n",
              "</table>\n",
              "<p>140 rows × 2 columns</p>\n",
              "</div>"
            ],
            "text/plain": [
              "     SepalLengthCm  SepalWidthCm\n",
              "0              4.6           3.1\n",
              "1              5.0           3.6\n",
              "2              5.4           3.9\n",
              "3              4.9           3.1\n",
              "4              5.4           3.7\n",
              "..             ...           ...\n",
              "135            6.7           3.0\n",
              "136            6.3           2.5\n",
              "137            6.5           3.0\n",
              "138            6.2           3.4\n",
              "139            5.9           3.0\n",
              "\n",
              "[140 rows x 2 columns]"
            ]
          },
          "metadata": {},
          "execution_count": 88
        }
      ]
    },
    {
      "cell_type": "code",
      "metadata": {
        "id": "60dabbd7"
      },
      "source": [
        "# import library StandardScaler dari sklearn\n",
        "from sklearn.preprocessing import StandardScaler\n",
        "\n",
        "# Buat objek scaler\n",
        "scaler = StandardScaler()\n",
        "\n",
        "# Sesuaikan scaler dengan data\n",
        "scaler.fit(data)\n",
        "\n",
        "# Mengubah data\n",
        "train_scaled = scaler.transform(data)"
      ],
      "id": "60dabbd7",
      "execution_count": null,
      "outputs": []
    },
    {
      "cell_type": "code",
      "metadata": {
        "id": "0a689660",
        "colab": {
          "base_uri": "https://localhost:8080/"
        },
        "outputId": "ec6244d2-ee94-4350-98d3-74f19e6bb682"
      },
      "source": [
        "# Tampilkan hasil\n",
        "\n",
        "train_scaled"
      ],
      "id": "0a689660",
      "execution_count": null,
      "outputs": [
        {
          "output_type": "execute_result",
          "data": {
            "text/plain": [
              "array([[-1.59579136,  0.17975613],\n",
              "       [-1.10585542,  1.43804903],\n",
              "       [-0.61591947,  2.19302477],\n",
              "       [-1.22833941,  0.17975613],\n",
              "       [-0.61591947,  1.68970761],\n",
              "       [-1.35082339,  0.93473187],\n",
              "       [-1.35082339, -0.07190245],\n",
              "       [-1.96324332, -0.07190245],\n",
              "       [-0.12598353,  2.44468335],\n",
              "       [-0.61591947,  2.19302477],\n",
              "       [-0.98337143,  1.18639045],\n",
              "       [-0.24846751,  1.94136619],\n",
              "       [-0.98337143,  1.94136619],\n",
              "       [-0.61591947,  0.93473187],\n",
              "       [-0.98337143,  1.68970761],\n",
              "       [-1.59579136,  1.43804903],\n",
              "       [-0.98337143,  0.68307329],\n",
              "       [-1.35082339,  0.93473187],\n",
              "       [-1.10585542, -0.07190245],\n",
              "       [-1.10585542,  0.93473187],\n",
              "       [-0.86088745,  1.18639045],\n",
              "       [-0.86088745,  0.93473187],\n",
              "       [-1.47330738,  0.43141471],\n",
              "       [-1.35082339,  0.17975613],\n",
              "       [-0.61591947,  0.93473187],\n",
              "       [-1.22833941,  0.17975613],\n",
              "       [-1.10585542,  0.43141471],\n",
              "       [-0.49343549,  1.18639045],\n",
              "       [-1.22833941,  0.17975613],\n",
              "       [-1.84075934, -0.07190245],\n",
              "       [-0.98337143,  0.93473187],\n",
              "       [-1.10585542,  1.18639045],\n",
              "       [-1.71827535, -1.83351251],\n",
              "       [-1.84075934,  0.43141471],\n",
              "       [-1.10585542,  1.18639045],\n",
              "       [-0.98337143,  1.94136619],\n",
              "       [-1.35082339, -0.07190245],\n",
              "       [-0.98337143,  1.94136619],\n",
              "       [-1.59579136,  0.43141471],\n",
              "       [-0.73840346,  1.68970761],\n",
              "       [-1.10585542,  0.68307329],\n",
              "       [ 1.34382431,  0.43141471],\n",
              "       [ 0.60892039,  0.43141471],\n",
              "       [ 1.22134032,  0.17975613],\n",
              "       [-0.49343549, -1.83351251],\n",
              "       [ 0.73140438, -0.57521961],\n",
              "       [-0.24846751, -0.57521961],\n",
              "       [ 0.4864364 ,  0.68307329],\n",
              "       [-1.22833941, -1.58185393],\n",
              "       [ 0.85388836, -0.32356103],\n",
              "       [-0.86088745, -0.82687819],\n",
              "       [-0.00349954, -0.07190245],\n",
              "       [ 0.11898444, -2.08517109],\n",
              "       [ 0.24146843, -0.32356103],\n",
              "       [-0.3709515 , -0.32356103],\n",
              "       [ 0.97637235,  0.17975613],\n",
              "       [-0.3709515 , -0.07190245],\n",
              "       [-0.12598353, -0.82687819],\n",
              "       [ 0.36395242, -2.08517109],\n",
              "       [-0.3709515 , -1.33019535],\n",
              "       [-0.00349954,  0.43141471],\n",
              "       [ 0.24146843, -0.57521961],\n",
              "       [ 0.4864364 , -1.33019535],\n",
              "       [ 0.24146843, -0.57521961],\n",
              "       [ 0.60892039, -0.32356103],\n",
              "       [ 0.85388836, -0.07190245],\n",
              "       [ 1.09885633, -0.57521961],\n",
              "       [ 0.97637235, -0.07190245],\n",
              "       [ 0.11898444, -0.32356103],\n",
              "       [-0.24846751, -1.07853677],\n",
              "       [-0.49343549, -1.58185393],\n",
              "       [-0.49343549, -1.58185393],\n",
              "       [-0.12598353, -0.82687819],\n",
              "       [ 0.11898444, -0.82687819],\n",
              "       [-0.61591947, -0.07190245],\n",
              "       [ 0.11898444,  0.93473187],\n",
              "       [ 0.97637235,  0.17975613],\n",
              "       [ 0.4864364 , -1.83351251],\n",
              "       [-0.3709515 , -0.07190245],\n",
              "       [-0.49343549, -1.33019535],\n",
              "       [-0.49343549, -1.07853677],\n",
              "       [ 0.24146843, -0.07190245],\n",
              "       [-0.12598353, -1.07853677],\n",
              "       [-1.10585542, -1.83351251],\n",
              "       [-0.3709515 , -0.82687819],\n",
              "       [-0.24846751, -0.07190245],\n",
              "       [-0.24846751, -0.32356103],\n",
              "       [ 0.36395242, -0.32356103],\n",
              "       [-0.98337143, -1.33019535],\n",
              "       [-0.24846751, -0.57521961],\n",
              "       [ 0.4864364 ,  0.68307329],\n",
              "       [-0.12598353, -0.82687819],\n",
              "       [ 1.46630829, -0.07190245],\n",
              "       [ 0.4864364 , -0.32356103],\n",
              "       [ 0.73140438, -0.07190245],\n",
              "       [ 2.07872822, -0.07190245],\n",
              "       [-1.22833941, -1.33019535],\n",
              "       [ 1.71127627, -0.32356103],\n",
              "       [ 0.97637235, -1.33019535],\n",
              "       [ 1.58879228,  1.43804903],\n",
              "       [ 0.73140438,  0.43141471],\n",
              "       [ 0.60892039, -0.82687819],\n",
              "       [ 1.09885633, -0.07190245],\n",
              "       [-0.24846751, -1.33019535],\n",
              "       [-0.12598353, -0.57521961],\n",
              "       [ 0.60892039,  0.43141471],\n",
              "       [ 0.73140438, -0.07190245],\n",
              "       [ 2.20121221,  1.94136619],\n",
              "       [ 2.20121221, -1.07853677],\n",
              "       [ 0.11898444, -2.08517109],\n",
              "       [ 1.22134032,  0.43141471],\n",
              "       [-0.3709515 , -0.57521961],\n",
              "       [ 2.20121221, -0.57521961],\n",
              "       [ 0.4864364 , -0.82687819],\n",
              "       [ 0.97637235,  0.68307329],\n",
              "       [ 1.58879228,  0.43141471],\n",
              "       [ 0.36395242, -0.57521961],\n",
              "       [ 0.24146843, -0.07190245],\n",
              "       [ 0.60892039, -0.57521961],\n",
              "       [ 1.58879228, -0.07190245],\n",
              "       [ 1.83376025, -0.57521961],\n",
              "       [ 2.44618018,  1.94136619],\n",
              "       [ 0.60892039, -0.57521961],\n",
              "       [ 0.4864364 , -0.57521961],\n",
              "       [ 0.24146843, -1.07853677],\n",
              "       [ 2.20121221, -0.07190245],\n",
              "       [ 0.4864364 ,  0.93473187],\n",
              "       [ 0.60892039,  0.17975613],\n",
              "       [ 0.11898444, -0.07190245],\n",
              "       [ 1.22134032,  0.17975613],\n",
              "       [ 0.97637235,  0.17975613],\n",
              "       [ 1.22134032,  0.17975613],\n",
              "       [-0.12598353, -0.82687819],\n",
              "       [ 1.09885633,  0.43141471],\n",
              "       [ 0.97637235,  0.68307329],\n",
              "       [ 0.97637235, -0.07190245],\n",
              "       [ 0.4864364 , -1.33019535],\n",
              "       [ 0.73140438, -0.07190245],\n",
              "       [ 0.36395242,  0.93473187],\n",
              "       [-0.00349954, -0.07190245]])"
            ]
          },
          "metadata": {},
          "execution_count": 90
        }
      ]
    }
  ]
}